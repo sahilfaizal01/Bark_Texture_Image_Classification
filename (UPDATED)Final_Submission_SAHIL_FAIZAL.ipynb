{
  "nbformat": 4,
  "nbformat_minor": 0,
  "metadata": {
    "colab": {
      "provenance": [],
      "collapsed_sections": [],
      "machine_shape": "hm",
      "mount_file_id": "1RU4HX_lpxTXYD5x-nj7TSfanWZL1AO-p",
      "authorship_tag": "ABX9TyOLGIN3ZvI0FUjxquK62EmH",
      "include_colab_link": true
    },
    "kernelspec": {
      "name": "python3",
      "display_name": "Python 3"
    },
    "language_info": {
      "name": "python"
    },
    "accelerator": "GPU",
    "gpuClass": "standard"
  },
  "cells": [
    {
      "cell_type": "markdown",
      "metadata": {
        "id": "view-in-github",
        "colab_type": "text"
      },
      "source": [
        "<a href=\"https://colab.research.google.com/github/sahilfaizal01/Bark_Texture_Image_Classification/blob/main/(UPDATED)Final_Submission_SAHIL_FAIZAL.ipynb\" target=\"_parent\"><img src=\"https://colab.research.google.com/assets/colab-badge.svg\" alt=\"Open In Colab\"/></a>"
      ]
    },
    {
      "cell_type": "markdown",
      "source": [
        "# **Installing Required Libraries**\n"
      ],
      "metadata": {
        "id": "_kSgwlirYQKs"
      }
    },
    {
      "cell_type": "code",
      "source": [
        "!pip install Augmentor #Installing Augmentor Library - for image augmentation to maintain class imbalance"
      ],
      "metadata": {
        "colab": {
          "base_uri": "https://localhost:8080/"
        },
        "id": "wJilNap3YKha",
        "outputId": "4f2ce7ed-c33a-47da-d2a2-8b7861a8120e"
      },
      "execution_count": null,
      "outputs": [
        {
          "output_type": "stream",
          "name": "stdout",
          "text": [
            "Looking in indexes: https://pypi.org/simple, https://us-python.pkg.dev/colab-wheels/public/simple/\n",
            "Requirement already satisfied: Augmentor in /usr/local/lib/python3.7/dist-packages (0.2.10)\n",
            "Requirement already satisfied: tqdm>=4.9.0 in /usr/local/lib/python3.7/dist-packages (from Augmentor) (4.64.1)\n",
            "Requirement already satisfied: numpy>=1.11.0 in /usr/local/lib/python3.7/dist-packages (from Augmentor) (1.21.6)\n",
            "Requirement already satisfied: Pillow>=5.2.0 in /usr/local/lib/python3.7/dist-packages (from Augmentor) (7.1.2)\n",
            "Requirement already satisfied: future>=0.16.0 in /usr/local/lib/python3.7/dist-packages (from Augmentor) (0.16.0)\n"
          ]
        }
      ]
    },
    {
      "cell_type": "markdown",
      "source": [
        "# **Importing Libraries**"
      ],
      "metadata": {
        "id": "mnNqFho0YRlM"
      }
    },
    {
      "cell_type": "code",
      "source": [
        "import glob #Importing glob library -> for file access purpose\n",
        "import cv2 #Importing OpenCV library -> for image processing purpose\n",
        "import os #Importing os library -> for file access purpose\n",
        "import numpy as np #Importing Numpy library -> for data pre-processing purpose\n",
        "from tensorflow import keras #Importing Keras library -> for data pre-processing purpose\n",
        "from sklearn.model_selection import train_test_split #Importing train_test_split library -> to split the dataset\n",
        "import matplotlib.pyplot as plt #Importing Matplotlib library -> for visualisation purpose\n",
        "#import Augmentor #Importing the already downloaded Augmentor library"
      ],
      "metadata": {
        "id": "N2J3P3nfZEIa"
      },
      "execution_count": null,
      "outputs": []
    },
    {
      "cell_type": "markdown",
      "source": [
        "# **Exploring the Dataset**"
      ],
      "metadata": {
        "id": "Ww_SzD-yYicl"
      }
    },
    {
      "cell_type": "code",
      "source": [
        "directory = \"/content/drive/MyDrive/BarkVN-50_mendeley\" #the Google drive dataset folder(directory) where data is saved\n",
        "dir_list = os.listdir(directory) #this will contain the directories within the dataset folder"
      ],
      "metadata": {
        "id": "Hii31uhWZwF3"
      },
      "execution_count": null,
      "outputs": []
    },
    {
      "cell_type": "code",
      "source": [
        "# Finding the count of images in each class\n",
        "class_cnt = [] #initialising class_cnt list\n",
        "classes = [] #initialising classes list\n",
        "for dir in dir_list: #looping through each directory\n",
        "  images = glob.glob(directory + '/' + dir + '/*.JPG') #making a list of all\n",
        "  cnt = 0\n",
        "  classes.append(dir)\n",
        "  print(dir)\n",
        "  for img in images:\n",
        "    image = cv2.imread(img)\n",
        "    cnt += 1\n",
        "  print(cnt)\n",
        "  class_cnt.append(cnt)"
      ],
      "metadata": {
        "colab": {
          "base_uri": "https://localhost:8080/"
        },
        "id": "-x90HB9gZwkV",
        "outputId": "1a537ae7-5a4c-4c9d-d2e9-2a63d48b5d78"
      },
      "execution_count": null,
      "outputs": [
        {
          "output_type": "stream",
          "name": "stdout",
          "text": [
            "Wrightia religiosa\n",
            "110\n",
            "Wrightia\n",
            "110\n",
            "Melaleuca\n",
            "110\n",
            "Prunus salicina\n",
            "110\n",
            "Spondias mombin L\n",
            "110\n",
            "Cocos nucifera\n",
            "220\n",
            "Pterocarpus macrocarpus\n",
            "110\n",
            "Melia azedarach\n",
            "110\n",
            "Dalbergia oliveri\n",
            "110\n",
            "Prunnus\n",
            "110\n",
            "Khaya senegalensis\n",
            "110\n",
            "Acacia\n",
            "110\n",
            "Tectona grandis\n",
            "110\n",
            "Gmelina arborea Roxb\n",
            "110\n",
            "Annona squamosa\n",
            "110\n",
            "Cananga odorata\n",
            "110\n",
            "Artocarpus heterophyllus\n",
            "138\n",
            "Musa\n",
            "132\n",
            "Hopea\n",
            "110\n",
            "Eucalyptus\n",
            "127\n",
            "Barringtonia acutangula\n",
            "110\n",
            "Mangifera\n",
            "110\n",
            "Ficus racemosa\n",
            "117\n",
            "Persea\n",
            "110\n",
            "Ficus microcarpa\n",
            "150\n",
            "Artocarpus altilis\n",
            "110\n",
            "Polyalthia longifolia\n",
            "110\n",
            "Carica papaya\n",
            "207\n",
            "Anacardium occidentale\n",
            "239\n",
            "Psidium guajava\n",
            "122\n",
            "Citrus aurantiifolia\n",
            "110\n",
            "Magnolia alba\n",
            "110\n",
            "Cedrus\n",
            "110\n",
            "Adenium species\n",
            "144\n",
            "Adenanthera microsperma\n",
            "110\n",
            "Chrysophyllum cainino\n",
            "111\n",
            "Lagerstroemia speciosa\n",
            "110\n",
            "Terminalia catappa\n",
            "113\n",
            "Dipterocarpus alatus\n",
            "158\n",
            "Khaya senegalensis A.Juss\n",
            "110\n",
            "Casuarina equisetifolia\n",
            "110\n",
            "Tamarindus indica\n",
            "110\n",
            "Citrus grandis\n",
            "110\n",
            "Erythrina fusca\n",
            "110\n",
            "Senna siamea\n",
            "110\n",
            "Delonix regia\n",
            "110\n",
            "Syzygium nervosum\n",
            "110\n",
            "Veitchia merrilli\n",
            "152\n",
            "Nephelium lappaceum\n",
            "110\n",
            "Hevea brasiliensis\n",
            "220\n"
          ]
        }
      ]
    },
    {
      "cell_type": "code",
      "source": [
        "np.median(class_cnt)"
      ],
      "metadata": {
        "colab": {
          "base_uri": "https://localhost:8080/"
        },
        "id": "zQ-u61-pbxeY",
        "outputId": "832b1fd7-6550-42b1-ae7a-4daa09b31389"
      },
      "execution_count": null,
      "outputs": [
        {
          "output_type": "execute_result",
          "data": {
            "text/plain": [
              "103.0"
            ]
          },
          "metadata": {},
          "execution_count": 21
        }
      ]
    },
    {
      "cell_type": "code",
      "source": [
        "np.mean(class_cnt)"
      ],
      "metadata": {
        "colab": {
          "base_uri": "https://localhost:8080/"
        },
        "id": "Akm32QzHccuz",
        "outputId": "aacf7d28-a35b-4c8d-9462-f229b2c58ff5"
      },
      "execution_count": null,
      "outputs": [
        {
          "output_type": "execute_result",
          "data": {
            "text/plain": [
              "111.76"
            ]
          },
          "metadata": {},
          "execution_count": 22
        }
      ]
    },
    {
      "cell_type": "markdown",
      "source": [
        "# **Note:-**"
      ],
      "metadata": {
        "id": "A7qCBiu5bLLJ"
      }
    },
    {
      "cell_type": "markdown",
      "source": [
        "### Since the median and mean values of individual class count of different classes are around 110. I decided to do *upsampling* to generate more samples of those classes having less images(minority classes) so that they can reach the limit of 110. And *downsampling* to take only 110 images even if the particular class contains more images(majority classes). This way I was more or less able to preserve the dataset balance without lossing much data."
      ],
      "metadata": {
        "id": "POa98CKYaROO"
      }
    },
    {
      "cell_type": "markdown",
      "source": [
        "# **Data Augmentation - to Handle Class Imbalance**\n"
      ],
      "metadata": {
        "id": "eh7EPCW5YoRZ"
      }
    },
    {
      "cell_type": "code",
      "source": [
        "for dir in dir_list:\n",
        "  images = glob.glob(directory + '/' + dir + '/*')\n",
        "  cnt = 0     #loading the images from directories\n",
        "  for img in images:\n",
        "    image = cv2.imread(img)\n",
        "    cnt += 1                 \n",
        "  # performing data augmentation for upsampling using Augmentor package  \n",
        "  p = Augmentor.Pipeline(directory + '/' + dir + '/')\n",
        "  # these are some operations which are gonna be performed on images to generate new data\n",
        "  p.zoom(probability=0.3,min_factor=0.8,max_factor=1.5) # zoom operation to be performed with a probability of 30%\n",
        "  p.flip_top_bottom(probability=0.4) # flip top bottom operation to be performed with a probability of 30%\n",
        "  p.random_brightness(probability=0.3,min_factor=0.3,max_factor=1.2) # random brightness operation to be performed with a probability of 30%\n",
        "  p.random_distortion(probability=1,grid_width=4,grid_height=4,magnitude=8) # random distortion operation to be performed with a probability of 30%\n",
        "  p.sample(110-cnt) # generating only samples for the minority classes till 110"
      ],
      "metadata": {
        "colab": {
          "base_uri": "https://localhost:8080/"
        },
        "id": "5heftpASfd2u",
        "outputId": "3bcf680b-1aa5-42bc-cfe4-29f8fa7e2cc3"
      },
      "execution_count": null,
      "outputs": [
        {
          "output_type": "stream",
          "name": "stdout",
          "text": [
            "Initialised with 100 image(s) found.\n",
            "Output directory set to /content/drive/MyDrive/BarkVN-50_mendeley/Wrightia religiosa/output."
          ]
        },
        {
          "output_type": "stream",
          "name": "stderr",
          "text": [
            "Processing <PIL.Image.Image image mode=RGB size=303x404 at 0x7F63D8C2E5D0>: 100%|██████████| 10/10 [00:00<00:00, 63.25 Samples/s]\n"
          ]
        },
        {
          "output_type": "stream",
          "name": "stdout",
          "text": [
            "Initialised with 97 image(s) found.\n",
            "Output directory set to /content/drive/MyDrive/BarkVN-50_mendeley/Wrightia/output."
          ]
        },
        {
          "output_type": "stream",
          "name": "stderr",
          "text": [
            "Processing <PIL.Image.Image image mode=RGB size=303x404 at 0x7F63D8C4F350>: 100%|██████████| 13/13 [00:00<00:00, 69.68 Samples/s]\n"
          ]
        },
        {
          "output_type": "stream",
          "name": "stdout",
          "text": [
            "Initialised with 107 image(s) found.\n",
            "Output directory set to /content/drive/MyDrive/BarkVN-50_mendeley/Melaleuca/output."
          ]
        },
        {
          "output_type": "stream",
          "name": "stderr",
          "text": [
            "Processing <PIL.Image.Image image mode=RGB size=303x404 at 0x7F63DE513B10>: 100%|██████████| 3/3 [00:00<00:00, 65.53 Samples/s]\n"
          ]
        },
        {
          "output_type": "stream",
          "name": "stdout",
          "text": [
            "Initialised with 105 image(s) found.\n",
            "Output directory set to /content/drive/MyDrive/BarkVN-50_mendeley/Prunus salicina/output."
          ]
        },
        {
          "output_type": "stream",
          "name": "stderr",
          "text": [
            "Processing <PIL.Image.Image image mode=RGB size=303x404 at 0x7F63D8C3CCD0>: 100%|██████████| 5/5 [00:00<00:00, 57.19 Samples/s]\n"
          ]
        },
        {
          "output_type": "stream",
          "name": "stdout",
          "text": [
            "Initialised with 102 image(s) found.\n",
            "Output directory set to /content/drive/MyDrive/BarkVN-50_mendeley/Spondias mombin L/output."
          ]
        },
        {
          "output_type": "stream",
          "name": "stderr",
          "text": [
            "Processing <PIL.Image.Image image mode=RGB size=303x404 at 0x7F63DE513590>: 100%|██████████| 8/8 [00:00<00:00, 75.38 Samples/s]\n"
          ]
        },
        {
          "output_type": "stream",
          "name": "stdout",
          "text": [
            "Initialised with 110 image(s) found.\n",
            "Output directory set to /content/drive/MyDrive/BarkVN-50_mendeley/Cocos nucifera/output."
          ]
        },
        {
          "output_type": "stream",
          "name": "stderr",
          "text": [
            "Processing <PIL.Image.Image image mode=RGB size=303x404 at 0x7F63D3C0DD10>: 100%|██████████| 110/110 [00:01<00:00, 76.12 Samples/s] \n"
          ]
        },
        {
          "output_type": "stream",
          "name": "stdout",
          "text": [
            "Initialised with 100 image(s) found.\n",
            "Output directory set to /content/drive/MyDrive/BarkVN-50_mendeley/Pterocarpus macrocarpus/output."
          ]
        },
        {
          "output_type": "stream",
          "name": "stderr",
          "text": [
            "Processing <PIL.Image.Image image mode=RGB size=303x404 at 0x7F63DE4B4810>: 100%|██████████| 10/10 [00:00<00:00, 72.69 Samples/s]\n"
          ]
        },
        {
          "output_type": "stream",
          "name": "stdout",
          "text": [
            "Initialised with 103 image(s) found.\n",
            "Output directory set to /content/drive/MyDrive/BarkVN-50_mendeley/Melia azedarach/output."
          ]
        },
        {
          "output_type": "stream",
          "name": "stderr",
          "text": [
            "Processing <PIL.Image.Image image mode=RGB size=303x404 at 0x7F63D3BE20D0>: 100%|██████████| 7/7 [00:00<00:00, 64.88 Samples/s]\n"
          ]
        },
        {
          "output_type": "stream",
          "name": "stdout",
          "text": [
            "Initialised with 89 image(s) found.\n",
            "Output directory set to /content/drive/MyDrive/BarkVN-50_mendeley/Dalbergia oliveri/output."
          ]
        },
        {
          "output_type": "stream",
          "name": "stderr",
          "text": [
            "Processing <PIL.Image.Image image mode=RGB size=303x404 at 0x7F63DE5130D0>: 100%|██████████| 21/21 [00:00<00:00, 73.37 Samples/s]\n"
          ]
        },
        {
          "output_type": "stream",
          "name": "stdout",
          "text": [
            "Initialised with 80 image(s) found.\n",
            "Output directory set to /content/drive/MyDrive/BarkVN-50_mendeley/Prunnus/output."
          ]
        },
        {
          "output_type": "stream",
          "name": "stderr",
          "text": [
            "Processing <PIL.Image.Image image mode=RGB size=303x404 at 0x7F63D3C14150>: 100%|██████████| 30/30 [00:00<00:00, 73.63 Samples/s]\n"
          ]
        },
        {
          "output_type": "stream",
          "name": "stdout",
          "text": [
            "Initialised with 105 image(s) found.\n",
            "Output directory set to /content/drive/MyDrive/BarkVN-50_mendeley/Khaya senegalensis/output."
          ]
        },
        {
          "output_type": "stream",
          "name": "stderr",
          "text": [
            "Processing <PIL.Image.Image image mode=RGB size=245x327 at 0x7F63D8C3EA50>: 100%|██████████| 5/5 [00:00<00:00, 64.26 Samples/s]\n"
          ]
        },
        {
          "output_type": "stream",
          "name": "stdout",
          "text": [
            "Initialised with 102 image(s) found.\n",
            "Output directory set to /content/drive/MyDrive/BarkVN-50_mendeley/Acacia/output."
          ]
        },
        {
          "output_type": "stream",
          "name": "stderr",
          "text": [
            "Processing <PIL.Image.Image image mode=RGB size=303x404 at 0x7F63D8C3C110>: 100%|██████████| 8/8 [00:00<00:00, 75.13 Samples/s]\n"
          ]
        },
        {
          "output_type": "stream",
          "name": "stdout",
          "text": [
            "Initialised with 102 image(s) found.\n",
            "Output directory set to /content/drive/MyDrive/BarkVN-50_mendeley/Tectona grandis/output."
          ]
        },
        {
          "output_type": "stream",
          "name": "stderr",
          "text": [
            "Processing <PIL.Image.Image image mode=RGB size=303x404 at 0x7F63DE513990>: 100%|██████████| 8/8 [00:00<00:00, 75.87 Samples/s]\n"
          ]
        },
        {
          "output_type": "stream",
          "name": "stdout",
          "text": [
            "Initialised with 103 image(s) found.\n",
            "Output directory set to /content/drive/MyDrive/BarkVN-50_mendeley/Gmelina arborea Roxb/output."
          ]
        },
        {
          "output_type": "stream",
          "name": "stderr",
          "text": [
            "Processing <PIL.Image.Image image mode=RGB size=303x404 at 0x7F63D3C0DAD0>: 100%|██████████| 7/7 [00:00<00:00, 74.94 Samples/s]\n"
          ]
        },
        {
          "output_type": "stream",
          "name": "stdout",
          "text": [
            "Initialised with 105 image(s) found.\n",
            "Output directory set to /content/drive/MyDrive/BarkVN-50_mendeley/Annona squamosa/output."
          ]
        },
        {
          "output_type": "stream",
          "name": "stderr",
          "text": [
            "Processing <PIL.Image.Image image mode=RGB size=303x404 at 0x7F63D8C3E6D0>: 100%|██████████| 5/5 [00:00<00:00, 70.36 Samples/s]\n"
          ]
        },
        {
          "output_type": "stream",
          "name": "stdout",
          "text": [
            "Initialised with 101 image(s) found.\n",
            "Output directory set to /content/drive/MyDrive/BarkVN-50_mendeley/Cananga odorata/output."
          ]
        },
        {
          "output_type": "stream",
          "name": "stderr",
          "text": [
            "Processing <PIL.Image.Image image mode=RGB size=303x404 at 0x7F63DE494850>: 100%|██████████| 9/9 [00:00<00:00, 65.82 Samples/s]\n"
          ]
        },
        {
          "output_type": "stream",
          "name": "stdout",
          "text": [
            "Initialised with 138 image(s) found.\n",
            "Output directory set to /content/drive/MyDrive/BarkVN-50_mendeley/Artocarpus heterophyllus/output."
          ]
        },
        {
          "output_type": "stream",
          "name": "stderr",
          "text": [
            "Executing Pipeline: 0 Samples [00:00, ? Samples/s]\n"
          ]
        },
        {
          "output_type": "stream",
          "name": "stdout",
          "text": [
            "Initialised with 132 image(s) found.\n",
            "Output directory set to /content/drive/MyDrive/BarkVN-50_mendeley/Musa/output."
          ]
        },
        {
          "output_type": "stream",
          "name": "stderr",
          "text": [
            "Executing Pipeline: 0 Samples [00:00, ? Samples/s]\n"
          ]
        },
        {
          "output_type": "stream",
          "name": "stdout",
          "text": [
            "Initialised with 91 image(s) found.\n",
            "Output directory set to /content/drive/MyDrive/BarkVN-50_mendeley/Hopea/output."
          ]
        },
        {
          "output_type": "stream",
          "name": "stderr",
          "text": [
            "Processing <PIL.Image.Image image mode=RGB size=303x404 at 0x7F63DE513910>: 100%|██████████| 19/19 [00:00<00:00, 66.62 Samples/s]\n"
          ]
        },
        {
          "output_type": "stream",
          "name": "stdout",
          "text": [
            "Initialised with 127 image(s) found.\n",
            "Output directory set to /content/drive/MyDrive/BarkVN-50_mendeley/Eucalyptus/output."
          ]
        },
        {
          "output_type": "stream",
          "name": "stderr",
          "text": [
            "Executing Pipeline: 0 Samples [00:00, ? Samples/s]\n"
          ]
        },
        {
          "output_type": "stream",
          "name": "stdout",
          "text": [
            "Initialised with 102 image(s) found.\n",
            "Output directory set to /content/drive/MyDrive/BarkVN-50_mendeley/Barringtonia acutangula/output."
          ]
        },
        {
          "output_type": "stream",
          "name": "stderr",
          "text": [
            "Processing <PIL.Image.Image image mode=RGB size=303x404 at 0x7F63DE4A71D0>: 100%|██████████| 8/8 [00:00<00:00, 71.20 Samples/s]\n"
          ]
        },
        {
          "output_type": "stream",
          "name": "stdout",
          "text": [
            "Initialised with 92 image(s) found.\n",
            "Output directory set to /content/drive/MyDrive/BarkVN-50_mendeley/Mangifera/output."
          ]
        },
        {
          "output_type": "stream",
          "name": "stderr",
          "text": [
            "Processing <PIL.Image.Image image mode=RGB size=303x404 at 0x7F63D3C0D810>: 100%|██████████| 18/18 [00:00<00:00, 69.61 Samples/s]\n"
          ]
        },
        {
          "output_type": "stream",
          "name": "stdout",
          "text": [
            "Initialised with 117 image(s) found.\n",
            "Output directory set to /content/drive/MyDrive/BarkVN-50_mendeley/Ficus racemosa/output."
          ]
        },
        {
          "output_type": "stream",
          "name": "stderr",
          "text": [
            "Executing Pipeline: 0 Samples [00:00, ? Samples/s]\n"
          ]
        },
        {
          "output_type": "stream",
          "name": "stdout",
          "text": [
            "Initialised with 103 image(s) found.\n",
            "Output directory set to /content/drive/MyDrive/BarkVN-50_mendeley/Persea/output."
          ]
        },
        {
          "output_type": "stream",
          "name": "stderr",
          "text": [
            "Processing <PIL.Image.Image image mode=RGB size=303x404 at 0x7F63D8C59C10>: 100%|██████████| 7/7 [00:00<00:00, 65.85 Samples/s]\n"
          ]
        },
        {
          "output_type": "stream",
          "name": "stdout",
          "text": [
            "Initialised with 150 image(s) found.\n",
            "Output directory set to /content/drive/MyDrive/BarkVN-50_mendeley/Ficus microcarpa/output."
          ]
        },
        {
          "output_type": "stream",
          "name": "stderr",
          "text": [
            "Executing Pipeline: 0 Samples [00:00, ? Samples/s]\n"
          ]
        },
        {
          "output_type": "stream",
          "name": "stdout",
          "text": [
            "Initialised with 104 image(s) found.\n",
            "Output directory set to /content/drive/MyDrive/BarkVN-50_mendeley/Artocarpus altilis/output."
          ]
        },
        {
          "output_type": "stream",
          "name": "stderr",
          "text": [
            "Processing <PIL.Image.Image image mode=RGB size=303x404 at 0x7F63D8C3EF10>: 100%|██████████| 6/6 [00:00<00:00, 78.23 Samples/s]\n"
          ]
        },
        {
          "output_type": "stream",
          "name": "stdout",
          "text": [
            "Initialised with 100 image(s) found.\n",
            "Output directory set to /content/drive/MyDrive/BarkVN-50_mendeley/Polyalthia longifolia/output."
          ]
        },
        {
          "output_type": "stream",
          "name": "stderr",
          "text": [
            "Processing <PIL.Image.Image image mode=RGB size=303x404 at 0x7F63DE51D890>: 100%|██████████| 10/10 [00:00<00:00, 78.62 Samples/s]\n"
          ]
        },
        {
          "output_type": "stream",
          "name": "stdout",
          "text": [
            "Initialised with 207 image(s) found.\n",
            "Output directory set to /content/drive/MyDrive/BarkVN-50_mendeley/Carica papaya/output."
          ]
        },
        {
          "output_type": "stream",
          "name": "stderr",
          "text": [
            "Executing Pipeline: 0 Samples [00:00, ? Samples/s]\n"
          ]
        },
        {
          "output_type": "stream",
          "name": "stdout",
          "text": [
            "Initialised with 239 image(s) found.\n",
            "Output directory set to /content/drive/MyDrive/BarkVN-50_mendeley/Anacardium occidentale/output."
          ]
        },
        {
          "output_type": "stream",
          "name": "stderr",
          "text": [
            "Executing Pipeline: 0 Samples [00:00, ? Samples/s]\n"
          ]
        },
        {
          "output_type": "stream",
          "name": "stdout",
          "text": [
            "Initialised with 122 image(s) found.\n",
            "Output directory set to /content/drive/MyDrive/BarkVN-50_mendeley/Psidium guajava/output."
          ]
        },
        {
          "output_type": "stream",
          "name": "stderr",
          "text": [
            "Executing Pipeline: 0 Samples [00:00, ? Samples/s]\n"
          ]
        },
        {
          "output_type": "stream",
          "name": "stdout",
          "text": [
            "Initialised with 108 image(s) found.\n",
            "Output directory set to /content/drive/MyDrive/BarkVN-50_mendeley/Citrus aurantiifolia/output."
          ]
        },
        {
          "output_type": "stream",
          "name": "stderr",
          "text": [
            "Processing <PIL.Image.Image image mode=RGB size=245x327 at 0x7F63DE4B3310>: 100%|██████████| 2/2 [00:00<00:00, 69.54 Samples/s]\n"
          ]
        },
        {
          "output_type": "stream",
          "name": "stdout",
          "text": [
            "Initialised with 92 image(s) found.\n",
            "Output directory set to /content/drive/MyDrive/BarkVN-50_mendeley/Magnolia alba/output."
          ]
        },
        {
          "output_type": "stream",
          "name": "stderr",
          "text": [
            "Processing <PIL.Image.Image image mode=RGB size=303x404 at 0x7F63D8C59190>: 100%|██████████| 18/18 [00:00<00:00, 69.45 Samples/s]\n"
          ]
        },
        {
          "output_type": "stream",
          "name": "stdout",
          "text": [
            "Initialised with 93 image(s) found.\n",
            "Output directory set to /content/drive/MyDrive/BarkVN-50_mendeley/Cedrus/output."
          ]
        },
        {
          "output_type": "stream",
          "name": "stderr",
          "text": [
            "Processing <PIL.Image.Image image mode=RGB size=303x404 at 0x7F63DE666290>: 100%|██████████| 17/17 [00:00<00:00, 71.80 Samples/s]\n"
          ]
        },
        {
          "output_type": "stream",
          "name": "stdout",
          "text": [
            "Initialised with 144 image(s) found.\n",
            "Output directory set to /content/drive/MyDrive/BarkVN-50_mendeley/Adenium species/output."
          ]
        },
        {
          "output_type": "stream",
          "name": "stderr",
          "text": [
            "Executing Pipeline: 0 Samples [00:00, ? Samples/s]\n"
          ]
        },
        {
          "output_type": "stream",
          "name": "stdout",
          "text": [
            "Initialised with 80 image(s) found.\n",
            "Output directory set to /content/drive/MyDrive/BarkVN-50_mendeley/Adenanthera microsperma/output."
          ]
        },
        {
          "output_type": "stream",
          "name": "stderr",
          "text": [
            "Processing <PIL.Image.Image image mode=RGB size=303x404 at 0x7F63DE48CF90>: 100%|██████████| 30/30 [00:00<00:00, 75.97 Samples/s]\n"
          ]
        },
        {
          "output_type": "stream",
          "name": "stdout",
          "text": [
            "Initialised with 111 image(s) found.\n",
            "Output directory set to /content/drive/MyDrive/BarkVN-50_mendeley/Chrysophyllum cainino/output."
          ]
        },
        {
          "output_type": "stream",
          "name": "stderr",
          "text": [
            "Executing Pipeline: 0 Samples [00:00, ? Samples/s]\n"
          ]
        },
        {
          "output_type": "stream",
          "name": "stdout",
          "text": [
            "Initialised with 96 image(s) found.\n",
            "Output directory set to /content/drive/MyDrive/BarkVN-50_mendeley/Lagerstroemia speciosa/output."
          ]
        },
        {
          "output_type": "stream",
          "name": "stderr",
          "text": [
            "Processing <PIL.Image.Image image mode=RGB size=303x404 at 0x7F63D4BF5650>: 100%|██████████| 14/14 [00:00<00:00, 69.59 Samples/s]\n"
          ]
        },
        {
          "output_type": "stream",
          "name": "stdout",
          "text": [
            "Initialised with 113 image(s) found.\n",
            "Output directory set to /content/drive/MyDrive/BarkVN-50_mendeley/Terminalia catappa/output."
          ]
        },
        {
          "output_type": "stream",
          "name": "stderr",
          "text": [
            "Executing Pipeline: 0 Samples [00:00, ? Samples/s]\n"
          ]
        },
        {
          "output_type": "stream",
          "name": "stdout",
          "text": [
            "Initialised with 158 image(s) found.\n",
            "Output directory set to /content/drive/MyDrive/BarkVN-50_mendeley/Dipterocarpus alatus/output."
          ]
        },
        {
          "output_type": "stream",
          "name": "stderr",
          "text": [
            "Executing Pipeline: 0 Samples [00:00, ? Samples/s]\n"
          ]
        },
        {
          "output_type": "stream",
          "name": "stdout",
          "text": [
            "Initialised with 99 image(s) found.\n",
            "Output directory set to /content/drive/MyDrive/BarkVN-50_mendeley/Khaya senegalensis A.Juss/output."
          ]
        },
        {
          "output_type": "stream",
          "name": "stderr",
          "text": [
            "Processing <PIL.Image.Image image mode=RGB size=303x404 at 0x7F63D3BF0E50>: 100%|██████████| 11/11 [00:00<00:00, 65.23 Samples/s]\n"
          ]
        },
        {
          "output_type": "stream",
          "name": "stdout",
          "text": [
            "Initialised with 97 image(s) found.\n",
            "Output directory set to /content/drive/MyDrive/BarkVN-50_mendeley/Casuarina equisetifolia/output."
          ]
        },
        {
          "output_type": "stream",
          "name": "stderr",
          "text": [
            "Processing <PIL.Image.Image image mode=RGB size=303x404 at 0x7F63D4BFC290>: 100%|██████████| 13/13 [00:00<00:00, 74.36 Samples/s]\n"
          ]
        },
        {
          "output_type": "stream",
          "name": "stdout",
          "text": [
            "Initialised with 103 image(s) found.\n",
            "Output directory set to /content/drive/MyDrive/BarkVN-50_mendeley/Tamarindus indica/output."
          ]
        },
        {
          "output_type": "stream",
          "name": "stderr",
          "text": [
            "Processing <PIL.Image.Image image mode=RGB size=303x404 at 0x7F63D3C14650>: 100%|██████████| 7/7 [00:00<00:00, 74.50 Samples/s]\n"
          ]
        },
        {
          "output_type": "stream",
          "name": "stdout",
          "text": [
            "Initialised with 84 image(s) found.\n",
            "Output directory set to /content/drive/MyDrive/BarkVN-50_mendeley/Citrus grandis/output."
          ]
        },
        {
          "output_type": "stream",
          "name": "stderr",
          "text": [
            "Processing <PIL.Image.Image image mode=RGB size=303x404 at 0x7F63D3BE2E10>: 100%|██████████| 26/26 [00:00<00:00, 72.48 Samples/s]\n"
          ]
        },
        {
          "output_type": "stream",
          "name": "stdout",
          "text": [
            "Initialised with 104 image(s) found.\n",
            "Output directory set to /content/drive/MyDrive/BarkVN-50_mendeley/Erythrina fusca/output."
          ]
        },
        {
          "output_type": "stream",
          "name": "stderr",
          "text": [
            "Processing <PIL.Image.Image image mode=RGB size=303x404 at 0x7F63DE505150>: 100%|██████████| 6/6 [00:00<00:00, 80.43 Samples/s]\n"
          ]
        },
        {
          "output_type": "stream",
          "name": "stdout",
          "text": [
            "Initialised with 93 image(s) found.\n",
            "Output directory set to /content/drive/MyDrive/BarkVN-50_mendeley/Senna siamea/output."
          ]
        },
        {
          "output_type": "stream",
          "name": "stderr",
          "text": [
            "Processing <PIL.Image.Image image mode=RGB size=303x404 at 0x7F63D3C00E50>: 100%|██████████| 17/17 [00:00<00:00, 71.12 Samples/s]\n"
          ]
        },
        {
          "output_type": "stream",
          "name": "stdout",
          "text": [
            "Initialised with 103 image(s) found.\n",
            "Output directory set to /content/drive/MyDrive/BarkVN-50_mendeley/Delonix regia/output."
          ]
        },
        {
          "output_type": "stream",
          "name": "stderr",
          "text": [
            "Processing <PIL.Image.Image image mode=RGB size=303x404 at 0x7F63D4BFAED0>: 100%|██████████| 7/7 [00:00<00:00, 73.30 Samples/s]\n"
          ]
        },
        {
          "output_type": "stream",
          "name": "stdout",
          "text": [
            "Initialised with 109 image(s) found.\n",
            "Output directory set to /content/drive/MyDrive/BarkVN-50_mendeley/Syzygium nervosum/output."
          ]
        },
        {
          "output_type": "stream",
          "name": "stderr",
          "text": [
            "Processing <PIL.Image.Image image mode=RGB size=303x404 at 0x7F63D3BF0810>: 100%|██████████| 1/1 [00:00<00:00, 33.75 Samples/s]\n"
          ]
        },
        {
          "output_type": "stream",
          "name": "stdout",
          "text": [
            "Initialised with 152 image(s) found.\n",
            "Output directory set to /content/drive/MyDrive/BarkVN-50_mendeley/Veitchia merrilli/output."
          ]
        },
        {
          "output_type": "stream",
          "name": "stderr",
          "text": [
            "Executing Pipeline: 0 Samples [00:00, ? Samples/s]\n"
          ]
        },
        {
          "output_type": "stream",
          "name": "stdout",
          "text": [
            "Initialised with 104 image(s) found.\n",
            "Output directory set to /content/drive/MyDrive/BarkVN-50_mendeley/Nephelium lappaceum/output."
          ]
        },
        {
          "output_type": "stream",
          "name": "stderr",
          "text": [
            "Processing <PIL.Image.Image image mode=RGB size=303x404 at 0x7F63DE4B4810>: 100%|██████████| 6/6 [00:00<00:00, 70.51 Samples/s]\n"
          ]
        },
        {
          "output_type": "stream",
          "name": "stdout",
          "text": [
            "Initialised with 110 image(s) found.\n",
            "Output directory set to /content/drive/MyDrive/BarkVN-50_mendeley/Hevea brasiliensis/output."
          ]
        },
        {
          "output_type": "stream",
          "name": "stderr",
          "text": [
            "Processing <PIL.Image.Image image mode=RGB size=303x404 at 0x7F63D3C00890>: 100%|██████████| 110/110 [00:01<00:00, 74.43 Samples/s]\n"
          ]
        }
      ]
    },
    {
      "cell_type": "code",
      "source": [
        "for dir in dir_list:\n",
        "  images = glob.glob(directory+'/'+dir+'/output/*') # a new directory output will be created with the artificial samples in each class directory\n",
        "  cnt = 0\n",
        "  print(dir)\n",
        "  for fimg in images: # moving images from the output folder to the respective class directories\n",
        "    img = cv2.imread(fimg)\n",
        "    cv2.imwrite(directory+\"/\"+dir+\"/\"+\"ImageA{f}.JPG\".format(f=cnt),img)\n",
        "    cnt+=1\n",
        "  print(cnt)"
      ],
      "metadata": {
        "colab": {
          "base_uri": "https://localhost:8080/"
        },
        "id": "bPCugYF2ga4X",
        "outputId": "18da4c94-3beb-4715-91ef-8b44209b3734"
      },
      "execution_count": null,
      "outputs": [
        {
          "output_type": "stream",
          "name": "stdout",
          "text": [
            "Wrightia religiosa\n",
            "10\n",
            "Wrightia\n",
            "13\n",
            "Melaleuca\n",
            "3\n",
            "Prunus salicina\n",
            "5\n",
            "Spondias mombin L\n",
            "8\n",
            "Cocos nucifera\n",
            "110\n",
            "Pterocarpus macrocarpus\n",
            "10\n",
            "Melia azedarach\n",
            "7\n",
            "Dalbergia oliveri\n",
            "21\n",
            "Prunnus\n",
            "30\n",
            "Khaya senegalensis\n",
            "5\n",
            "Acacia\n",
            "8\n",
            "Tectona grandis\n",
            "8\n",
            "Gmelina arborea Roxb\n",
            "7\n",
            "Annona squamosa\n",
            "5\n",
            "Cananga odorata\n",
            "9\n",
            "Artocarpus heterophyllus\n",
            "0\n",
            "Musa\n",
            "0\n",
            "Hopea\n",
            "19\n",
            "Eucalyptus\n",
            "0\n",
            "Barringtonia acutangula\n",
            "8\n",
            "Mangifera\n",
            "18\n",
            "Ficus racemosa\n",
            "0\n",
            "Persea\n",
            "7\n",
            "Ficus microcarpa\n",
            "0\n",
            "Artocarpus altilis\n",
            "6\n",
            "Polyalthia longifolia\n",
            "10\n",
            "Carica papaya\n",
            "0\n",
            "Anacardium occidentale\n",
            "0\n",
            "Psidium guajava\n",
            "0\n",
            "Citrus aurantiifolia\n",
            "2\n",
            "Magnolia alba\n",
            "18\n",
            "Cedrus\n",
            "17\n",
            "Adenium species\n",
            "0\n",
            "Adenanthera microsperma\n",
            "30\n",
            "Chrysophyllum cainino\n",
            "0\n",
            "Lagerstroemia speciosa\n",
            "14\n",
            "Terminalia catappa\n",
            "0\n",
            "Dipterocarpus alatus\n",
            "0\n",
            "Khaya senegalensis A.Juss\n",
            "11\n",
            "Casuarina equisetifolia\n",
            "13\n",
            "Tamarindus indica\n",
            "7\n",
            "Citrus grandis\n",
            "26\n",
            "Erythrina fusca\n",
            "6\n",
            "Senna siamea\n",
            "17\n",
            "Delonix regia\n",
            "7\n",
            "Syzygium nervosum\n",
            "1\n",
            "Veitchia merrilli\n",
            "0\n",
            "Nephelium lappaceum\n",
            "6\n",
            "Hevea brasiliensis\n",
            "110\n"
          ]
        }
      ]
    },
    {
      "cell_type": "markdown",
      "source": [
        "# **Creating the Dataset**"
      ],
      "metadata": {
        "id": "tfGzIvT7dG6l"
      }
    },
    {
      "cell_type": "code",
      "source": [
        "image_data_list = []\n",
        "l = 0\n",
        "labels = []\n",
        "classes = []\n",
        "for data_dir in dir_list:\n",
        "    images = glob.glob(directory + '/' + data_dir + '/*.JPG')\n",
        "    print ('Loaded the images of dataset-'+'{}\\n'.format(data_dir))\n",
        "    for img in range(110):\n",
        "        input_img = cv2.imread(images[img]) #loading the images\n",
        "        input_img_resize=cv2.resize(input_img,(160,160)) #resizing them\n",
        "        image_data_list.append(input_img_resize) #storing them in a list\n",
        "        labels.append(l) #storing their labels\n",
        "    classes.append(data_dir) #storing class names as strings\n",
        "    l=l+1\n",
        "img_data=np.array(image_data_list) #converting image data to numpy arrays for faster processing\n",
        "img_data=img_data/255 #scaling down the pixel values to reduce computation\n",
        "img_data.shape"
      ],
      "metadata": {
        "colab": {
          "base_uri": "https://localhost:8080/"
        },
        "id": "2wN_xJnBQ5nZ",
        "outputId": "c422e83e-bcb9-4894-addf-95a5813589ea"
      },
      "execution_count": null,
      "outputs": [
        {
          "output_type": "stream",
          "name": "stdout",
          "text": [
            "Loaded the images of dataset-Wrightia religiosa\n",
            "\n",
            "Loaded the images of dataset-Wrightia\n",
            "\n",
            "Loaded the images of dataset-Melaleuca\n",
            "\n",
            "Loaded the images of dataset-Prunus salicina\n",
            "\n",
            "Loaded the images of dataset-Spondias mombin L\n",
            "\n",
            "Loaded the images of dataset-Cocos nucifera\n",
            "\n",
            "Loaded the images of dataset-Pterocarpus macrocarpus\n",
            "\n",
            "Loaded the images of dataset-Melia azedarach\n",
            "\n",
            "Loaded the images of dataset-Dalbergia oliveri\n",
            "\n",
            "Loaded the images of dataset-Prunnus\n",
            "\n",
            "Loaded the images of dataset-Khaya senegalensis\n",
            "\n",
            "Loaded the images of dataset-Acacia\n",
            "\n",
            "Loaded the images of dataset-Tectona grandis\n",
            "\n",
            "Loaded the images of dataset-Gmelina arborea Roxb\n",
            "\n",
            "Loaded the images of dataset-Annona squamosa\n",
            "\n",
            "Loaded the images of dataset-Cananga odorata\n",
            "\n",
            "Loaded the images of dataset-Artocarpus heterophyllus\n",
            "\n",
            "Loaded the images of dataset-Musa\n",
            "\n",
            "Loaded the images of dataset-Hopea\n",
            "\n",
            "Loaded the images of dataset-Eucalyptus\n",
            "\n",
            "Loaded the images of dataset-Barringtonia acutangula\n",
            "\n",
            "Loaded the images of dataset-Mangifera\n",
            "\n",
            "Loaded the images of dataset-Ficus racemosa\n",
            "\n",
            "Loaded the images of dataset-Persea\n",
            "\n",
            "Loaded the images of dataset-Ficus microcarpa\n",
            "\n",
            "Loaded the images of dataset-Artocarpus altilis\n",
            "\n",
            "Loaded the images of dataset-Polyalthia longifolia\n",
            "\n",
            "Loaded the images of dataset-Carica papaya\n",
            "\n",
            "Loaded the images of dataset-Anacardium occidentale\n",
            "\n",
            "Loaded the images of dataset-Psidium guajava\n",
            "\n",
            "Loaded the images of dataset-Citrus aurantiifolia\n",
            "\n",
            "Loaded the images of dataset-Magnolia alba\n",
            "\n",
            "Loaded the images of dataset-Cedrus\n",
            "\n",
            "Loaded the images of dataset-Adenium species\n",
            "\n",
            "Loaded the images of dataset-Adenanthera microsperma\n",
            "\n",
            "Loaded the images of dataset-Chrysophyllum cainino\n",
            "\n",
            "Loaded the images of dataset-Lagerstroemia speciosa\n",
            "\n",
            "Loaded the images of dataset-Terminalia catappa\n",
            "\n",
            "Loaded the images of dataset-Dipterocarpus alatus\n",
            "\n",
            "Loaded the images of dataset-Khaya senegalensis A.Juss\n",
            "\n",
            "Loaded the images of dataset-Casuarina equisetifolia\n",
            "\n",
            "Loaded the images of dataset-Tamarindus indica\n",
            "\n",
            "Loaded the images of dataset-Citrus grandis\n",
            "\n",
            "Loaded the images of dataset-Erythrina fusca\n",
            "\n",
            "Loaded the images of dataset-Senna siamea\n",
            "\n",
            "Loaded the images of dataset-Delonix regia\n",
            "\n",
            "Loaded the images of dataset-Syzygium nervosum\n",
            "\n",
            "Loaded the images of dataset-Veitchia merrilli\n",
            "\n",
            "Loaded the images of dataset-Nephelium lappaceum\n",
            "\n",
            "Loaded the images of dataset-Hevea brasiliensis\n",
            "\n"
          ]
        },
        {
          "output_type": "execute_result",
          "data": {
            "text/plain": [
              "(5500, 160, 160, 3)"
            ]
          },
          "metadata": {},
          "execution_count": 5
        }
      ]
    },
    {
      "cell_type": "markdown",
      "source": [
        "# **Splitting the Dataset**"
      ],
      "metadata": {
        "id": "bWdFrdi6dlOh"
      }
    },
    {
      "cell_type": "code",
      "source": [
        "num_classes=50\n",
        "Y = keras.utils.to_categorical(labels, num_classes)\n",
        "X_train, X_test, y_train, y_test = train_test_split(img_data, Y, test_size=0.2) # Splitting the dataset in the ratio 80% (Training) : 20% (Testing)"
      ],
      "metadata": {
        "id": "Ylj90MLWQ5qT"
      },
      "execution_count": null,
      "outputs": []
    },
    {
      "cell_type": "code",
      "source": [
        "X_train.shape"
      ],
      "metadata": {
        "colab": {
          "base_uri": "https://localhost:8080/"
        },
        "id": "n4aeVN2DYJU5",
        "outputId": "646e0f0c-0572-4fc8-9f9f-c61c8c07ae5e"
      },
      "execution_count": null,
      "outputs": [
        {
          "output_type": "execute_result",
          "data": {
            "text/plain": [
              "(4400, 160, 160, 3)"
            ]
          },
          "metadata": {},
          "execution_count": 7
        }
      ]
    },
    {
      "cell_type": "code",
      "source": [
        "y_train.shape"
      ],
      "metadata": {
        "id": "Dttt7HFQX-KC",
        "colab": {
          "base_uri": "https://localhost:8080/"
        },
        "outputId": "ce01d3db-d11c-4b8a-bfd1-0bdc048b1277"
      },
      "execution_count": null,
      "outputs": [
        {
          "output_type": "execute_result",
          "data": {
            "text/plain": [
              "(4400, 50)"
            ]
          },
          "metadata": {},
          "execution_count": 8
        }
      ]
    },
    {
      "cell_type": "code",
      "source": [
        "directory"
      ],
      "metadata": {
        "colab": {
          "base_uri": "https://localhost:8080/",
          "height": 35
        },
        "id": "1rUtURha2V-_",
        "outputId": "0dda5d74-24c6-42a6-edfb-9b414c6cc09e"
      },
      "execution_count": null,
      "outputs": [
        {
          "output_type": "execute_result",
          "data": {
            "text/plain": [
              "'/content/drive/MyDrive/BarkVN-50_mendeley'"
            ],
            "application/vnd.google.colaboratory.intrinsic+json": {
              "type": "string"
            }
          },
          "metadata": {},
          "execution_count": 9
        }
      ]
    },
    {
      "cell_type": "markdown",
      "source": [
        "# **Model Training**"
      ],
      "metadata": {
        "id": "5IsOofcedrXC"
      }
    },
    {
      "cell_type": "code",
      "source": [
        "from tensorflow.keras.optimizers import Adam # Importing the Adam Optimizer\n",
        "from tensorflow.keras.models import Sequential # Importing the Sequential\n",
        "from tensorflow.keras.layers import Flatten # Importing the Flatten function\n",
        "from tensorflow.keras.layers import Dense,Dropout # Importing the Dense and Dropout layers\n",
        "import tensorflow as tf #Importing tensorflow library"
      ],
      "metadata": {
        "id": "dQPOySWNf8Rd"
      },
      "execution_count": null,
      "outputs": []
    },
    {
      "cell_type": "code",
      "source": [
        "resnet = tf.keras.applications.ResNet101V2(\n",
        "    weights='imagenet', \n",
        "    include_top=False,  \n",
        "    input_shape=(160,160,3)\n",
        ")\n",
        "# The Convolutional Neural Network is instantiated using the pre-trained ImageNet weights\n",
        "# Only the \n",
        "# Images are resized to 160 * 160 and has 3 channels - Red(R),Green(G),Blue(B)"
      ],
      "metadata": {
        "id": "PwgFpWQfxrec",
        "colab": {
          "base_uri": "https://localhost:8080/"
        },
        "outputId": "b7cbb879-e55a-4033-d198-2f6927ace39a"
      },
      "execution_count": null,
      "outputs": [
        {
          "output_type": "stream",
          "name": "stdout",
          "text": [
            "Downloading data from https://storage.googleapis.com/tensorflow/keras-applications/resnet/resnet101v2_weights_tf_dim_ordering_tf_kernels_notop.h5\n",
            "171319296/171317808 [==============================] - 1s 0us/step\n",
            "171327488/171317808 [==============================] - 1s 0us/step\n"
          ]
        }
      ]
    },
    {
      "cell_type": "code",
      "source": [
        "## Convolutional Layers - for image feature extracting\n",
        "\n",
        "model = Sequential() #Initialising of the sequential model\n",
        "model.add(resnet) #Adding the layers of ResNet-101 to the network\n",
        "model.add(Flatten()) #Flatten layer is used to flatten the extracted feature map array so that Neural Networks can work on them\n",
        "\n",
        "## Fully Connected Layers - for classification\n",
        "\n",
        "model.add(Dense(units = 512, activation = 'relu')) #First Dense layer with 512 neurons and relu activation function\n",
        "model.add(Dropout(0.45))                           #Dropout layer which reduces connections between layer 2 and 3 by 45%\n",
        "model.add(Dense(units = 512, activation = 'relu'))  #Second Dense layer with 512 neurons and relu activation function\n",
        "model.add(Dropout(0.45))                            #Dropout layer which reduces connections between layer 2 and 3 by 45%\n",
        "model.add(Dense(units = 256, activation = 'relu'))  #Third Dense layer with 256 neurons and relu activation function\n",
        "model.add(Dense(units = 50, activation = 'softmax'))  #Final Dense layer with 50 neurons and softmax activation function\n",
        "\n",
        "# Compiling the CNN with Adam optimizer, categorical cross entropy loss function and setting the monitoring metrics to be accuracy\n",
        "model.compile(optimizer = Adam(learning_rate=0.0001), loss = 'categorical_crossentropy', metrics = ['accuracy']) \n",
        "\n",
        "history = model.fit(X_train,y_train, #starting the model training by using X_train and y_train for training and X_test and y_test for validation\n",
        "                          epochs=32, #the model will be trained for 40 epochs and there are 138 steps per epoch\n",
        "                          verbose=1, \n",
        "                          validation_data= (X_test,y_test))"
      ],
      "metadata": {
        "id": "04Gubp0iX-M4",
        "colab": {
          "base_uri": "https://localhost:8080/"
        },
        "outputId": "35690a86-4b05-42e7-b3e9-e7dd30bbe387"
      },
      "execution_count": null,
      "outputs": [
        {
          "output_type": "stream",
          "name": "stdout",
          "text": [
            "Epoch 1/32\n",
            "138/138 [==============================] - 35s 187ms/step - loss: 1.2108 - accuracy: 0.7084 - val_loss: 0.3094 - val_accuracy: 0.9391\n",
            "Epoch 2/32\n",
            "138/138 [==============================] - 24s 174ms/step - loss: 0.1511 - accuracy: 0.9623 - val_loss: 0.2710 - val_accuracy: 0.9491\n",
            "Epoch 3/32\n",
            "138/138 [==============================] - 24s 174ms/step - loss: 0.1219 - accuracy: 0.9768 - val_loss: 0.3622 - val_accuracy: 0.9427\n",
            "Epoch 4/32\n",
            "138/138 [==============================] - 24s 173ms/step - loss: 0.1178 - accuracy: 0.9711 - val_loss: 0.6333 - val_accuracy: 0.8800\n",
            "Epoch 5/32\n",
            "138/138 [==============================] - 24s 174ms/step - loss: 0.1539 - accuracy: 0.9657 - val_loss: 0.5027 - val_accuracy: 0.9091\n",
            "Epoch 6/32\n",
            "138/138 [==============================] - 24s 174ms/step - loss: 0.1041 - accuracy: 0.9761 - val_loss: 0.7103 - val_accuracy: 0.8864\n",
            "Epoch 7/32\n",
            "138/138 [==============================] - 24s 173ms/step - loss: 0.1436 - accuracy: 0.9732 - val_loss: 2.2483 - val_accuracy: 0.7473\n",
            "Epoch 8/32\n",
            "138/138 [==============================] - 24s 173ms/step - loss: 0.1077 - accuracy: 0.9775 - val_loss: 0.6927 - val_accuracy: 0.8845\n",
            "Epoch 9/32\n",
            "138/138 [==============================] - 24s 173ms/step - loss: 0.1315 - accuracy: 0.9748 - val_loss: 0.6194 - val_accuracy: 0.8964\n",
            "Epoch 10/32\n",
            "138/138 [==============================] - 24s 173ms/step - loss: 0.0848 - accuracy: 0.9795 - val_loss: 0.3159 - val_accuracy: 0.9445\n",
            "Epoch 11/32\n",
            "138/138 [==============================] - 24s 173ms/step - loss: 0.0644 - accuracy: 0.9859 - val_loss: 0.5689 - val_accuracy: 0.9100\n",
            "Epoch 12/32\n",
            "138/138 [==============================] - 24s 173ms/step - loss: 0.0897 - accuracy: 0.9793 - val_loss: 0.4599 - val_accuracy: 0.9309\n",
            "Epoch 13/32\n",
            "138/138 [==============================] - 24s 173ms/step - loss: 0.0769 - accuracy: 0.9807 - val_loss: 0.9596 - val_accuracy: 0.8409\n",
            "Epoch 14/32\n",
            "138/138 [==============================] - 24s 173ms/step - loss: 0.0574 - accuracy: 0.9864 - val_loss: 0.3522 - val_accuracy: 0.9364\n",
            "Epoch 15/32\n",
            "138/138 [==============================] - 24s 173ms/step - loss: 0.0752 - accuracy: 0.9818 - val_loss: 0.6813 - val_accuracy: 0.8991\n",
            "Epoch 16/32\n",
            "138/138 [==============================] - 24s 173ms/step - loss: 0.1057 - accuracy: 0.9789 - val_loss: 0.6410 - val_accuracy: 0.8891\n",
            "Epoch 17/32\n",
            "138/138 [==============================] - 24s 173ms/step - loss: 0.1123 - accuracy: 0.9770 - val_loss: 0.7890 - val_accuracy: 0.9027\n",
            "Epoch 18/32\n",
            "138/138 [==============================] - 24s 173ms/step - loss: 0.0812 - accuracy: 0.9827 - val_loss: 0.8544 - val_accuracy: 0.8709\n",
            "Epoch 19/32\n",
            "138/138 [==============================] - 24s 173ms/step - loss: 0.0703 - accuracy: 0.9839 - val_loss: 0.8862 - val_accuracy: 0.8682\n",
            "Epoch 20/32\n",
            "138/138 [==============================] - 24s 173ms/step - loss: 0.1214 - accuracy: 0.9789 - val_loss: 1.7658 - val_accuracy: 0.7664\n",
            "Epoch 21/32\n",
            "138/138 [==============================] - 24s 173ms/step - loss: 0.0581 - accuracy: 0.9893 - val_loss: 0.4594 - val_accuracy: 0.9173\n",
            "Epoch 22/32\n",
            "138/138 [==============================] - 24s 173ms/step - loss: 0.0304 - accuracy: 0.9918 - val_loss: 0.3264 - val_accuracy: 0.9427\n",
            "Epoch 23/32\n",
            "138/138 [==============================] - 24s 172ms/step - loss: 0.0451 - accuracy: 0.9902 - val_loss: 0.3077 - val_accuracy: 0.9482\n",
            "Epoch 24/32\n",
            "138/138 [==============================] - 24s 173ms/step - loss: 0.0971 - accuracy: 0.9775 - val_loss: 0.6607 - val_accuracy: 0.9091\n",
            "Epoch 25/32\n",
            "138/138 [==============================] - 24s 173ms/step - loss: 0.1782 - accuracy: 0.9670 - val_loss: 0.7766 - val_accuracy: 0.8673\n",
            "Epoch 26/32\n",
            "138/138 [==============================] - 24s 173ms/step - loss: 0.0705 - accuracy: 0.9823 - val_loss: 0.3738 - val_accuracy: 0.9318\n",
            "Epoch 27/32\n",
            "138/138 [==============================] - 24s 173ms/step - loss: 0.0920 - accuracy: 0.9805 - val_loss: 0.5392 - val_accuracy: 0.8982\n",
            "Epoch 28/32\n",
            "138/138 [==============================] - 24s 173ms/step - loss: 0.1056 - accuracy: 0.9770 - val_loss: 0.9097 - val_accuracy: 0.8555\n",
            "Epoch 29/32\n",
            "138/138 [==============================] - 24s 173ms/step - loss: 0.0560 - accuracy: 0.9886 - val_loss: 0.3239 - val_accuracy: 0.9436\n",
            "Epoch 30/32\n",
            "138/138 [==============================] - 24s 173ms/step - loss: 0.0297 - accuracy: 0.9939 - val_loss: 0.6146 - val_accuracy: 0.8964\n",
            "Epoch 31/32\n",
            "138/138 [==============================] - 24s 173ms/step - loss: 0.0559 - accuracy: 0.9882 - val_loss: 0.4836 - val_accuracy: 0.9055\n",
            "Epoch 32/32\n",
            "138/138 [==============================] - 24s 173ms/step - loss: 0.0437 - accuracy: 0.9893 - val_loss: 0.2636 - val_accuracy: 0.9436\n"
          ]
        }
      ]
    },
    {
      "cell_type": "markdown",
      "source": [
        "# **Model Evaluation - Accuracy and Loss**"
      ],
      "metadata": {
        "id": "qVwuijLGezpy"
      }
    },
    {
      "cell_type": "code",
      "source": [
        "score = model.evaluate(X_test, y_test, verbose=0)\n",
        "print('Test loss:', score[0])\n",
        "print('Test accuracy:', score[1]*100) # Finding the test accuracy and loss"
      ],
      "metadata": {
        "id": "sZ7XyZfUX-O_",
        "colab": {
          "base_uri": "https://localhost:8080/"
        },
        "outputId": "3d79ccc9-856b-4b48-fd37-06beb4a5de62"
      },
      "execution_count": null,
      "outputs": [
        {
          "output_type": "stream",
          "name": "stdout",
          "text": [
            "Test loss: 0.26360276341438293\n",
            "Test accuracy: 94.36363577842712\n"
          ]
        }
      ]
    },
    {
      "cell_type": "code",
      "source": [
        "tscore = model.evaluate(X_train, y_train, verbose=0)\n",
        "print('Train loss:', tscore[0])\n",
        "print('Train accuracy:', tscore[1]*100) # Finding the training accuracy and loss"
      ],
      "metadata": {
        "id": "bk920gWEX-RD",
        "colab": {
          "base_uri": "https://localhost:8080/"
        },
        "outputId": "21337daa-ac6b-4fff-fcec-0b367d1234ce"
      },
      "execution_count": null,
      "outputs": [
        {
          "output_type": "stream",
          "name": "stdout",
          "text": [
            "Train loss: 0.005660492926836014\n",
            "Train accuracy: 99.75000023841858\n"
          ]
        }
      ]
    },
    {
      "cell_type": "markdown",
      "source": [
        "# **Evaluation Curves - Accuracy vs Epoch and Loss vs Epoch**"
      ],
      "metadata": {
        "id": "Cy-X5v1Ee_Wx"
      }
    },
    {
      "cell_type": "code",
      "source": [
        "# plot the loss curve\n",
        "plt.plot(history.history['loss'], label='train loss')\n",
        "plt.plot(history.history['val_loss'], label='val loss')\n",
        "plt.legend()\n",
        "plt.show()\n",
        "\n",
        "# plot the accuracy curve\n",
        "plt.plot(history.history['accuracy'], label='train acc')\n",
        "plt.plot(history.history['val_accuracy'], label='val acc')\n",
        "plt.legend()\n",
        "plt.show()\n"
      ],
      "metadata": {
        "colab": {
          "base_uri": "https://localhost:8080/",
          "height": 513
        },
        "id": "PGW61CWYpIDy",
        "outputId": "6cd70a4c-03b7-41cb-e280-a363bc41a588"
      },
      "execution_count": null,
      "outputs": [
        {
          "output_type": "display_data",
          "data": {
            "text/plain": [
              "<Figure size 432x288 with 1 Axes>"
            ],
            "image/png": "[encoded data removed]"
          },
          "metadata": {
            "needs_background": "light"
          }
        },
        {
          "output_type": "display_data",
          "data": {
            "text/plain": [
              "<Figure size 432x288 with 1 Axes>"
            ],
            "image/png": "[encoded data removed]"
          },
          "metadata": {
            "needs_background": "light"
          }
        }
      ]
    },
    {
      "cell_type": "markdown",
      "source": [
        "# **Model Summary**"
      ],
      "metadata": {
        "id": "0kjwUcWuIXJr"
      }
    },
    {
      "cell_type": "code",
      "source": [
        "model.summary()"
      ],
      "metadata": {
        "colab": {
          "base_uri": "https://localhost:8080/"
        },
        "id": "AuYb74PLxc64",
        "outputId": "f6ebb9a6-9ec0-41dc-ba4e-561e41b62afe"
      },
      "execution_count": null,
      "outputs": [
        {
          "output_type": "stream",
          "name": "stdout",
          "text": [
            "Model: \"sequential\"\n",
            "_________________________________________________________________\n",
            " Layer (type)                Output Shape              Param #   \n",
            "=================================================================\n",
            " resnet101v2 (Functional)    (None, 5, 5, 2048)        42626560  \n",
            "                                                                 \n",
            " flatten (Flatten)           (None, 51200)             0         \n",
            "                                                                 \n",
            " dense (Dense)               (None, 512)               26214912  \n",
            "                                                                 \n",
            " dropout (Dropout)           (None, 512)               0         \n",
            "                                                                 \n",
            " dense_1 (Dense)             (None, 512)               262656    \n",
            "                                                                 \n",
            " dropout_1 (Dropout)         (None, 512)               0         \n",
            "                                                                 \n",
            " dense_2 (Dense)             (None, 256)               131328    \n",
            "                                                                 \n",
            " dense_3 (Dense)             (None, 50)                12850     \n",
            "                                                                 \n",
            "=================================================================\n",
            "Total params: 69,248,306\n",
            "Trainable params: 69,150,642\n",
            "Non-trainable params: 97,664\n",
            "_________________________________________________________________\n"
          ]
        }
      ]
    },
    {
      "cell_type": "markdown",
      "source": [
        "# **Model Visualisation**"
      ],
      "metadata": {
        "id": "q7KItGE-IaZ3"
      }
    },
    {
      "cell_type": "code",
      "source": [
        "from keras.utils.vis_utils import plot_model\n",
        "plot_model(model, show_layer_names=False, show_shapes=True, to_file='model.png')"
      ],
      "metadata": {
        "id": "-9BtRnMExdMZ",
        "colab": {
          "base_uri": "https://localhost:8080/",
          "height": 976
        },
        "outputId": "a583dbfc-4293-4790-e008-22d6c0fea04b"
      },
      "execution_count": null,
      "outputs": [
        {
          "output_type": "execute_result",
          "data": {
            "image/png": "[encoded data removed]",
            "text/plain": [
              "<IPython.core.display.Image object>"
            ]
          },
          "metadata": {},
          "execution_count": 39
        }
      ]
    },
    {
      "cell_type": "markdown",
      "source": [
        "# **Confusion Matrix**"
      ],
      "metadata": {
        "id": "B89Dn0pVeGQl"
      }
    },
    {
      "cell_type": "code",
      "source": [
        "from sklearn.metrics import confusion_matrix\n",
        "predict_x=model.predict(X_test) \n",
        "results=np.argmax(predict_x,axis=1)\n",
        "cm = confusion_matrix(np.where(y_test == 1)[1], results)"
      ],
      "metadata": {
        "id": "n17TQoXBxdQA"
      },
      "execution_count": null,
      "outputs": []
    },
    {
      "cell_type": "code",
      "source": [
        "import seaborn as sns\n",
        "import pandas as pd"
      ],
      "metadata": {
        "id": "pbvbMJmMxdSW"
      },
      "execution_count": null,
      "outputs": []
    },
    {
      "cell_type": "code",
      "source": [
        "#Transform to df for easier plotting\n",
        "cm_df = pd.DataFrame(cm, index = classes,\n",
        "                     columns = classes\n",
        "                    )"
      ],
      "metadata": {
        "id": "Gc6dhCXBIy_f"
      },
      "execution_count": null,
      "outputs": []
    },
    {
      "cell_type": "code",
      "source": [
        "final_cm = cm_df"
      ],
      "metadata": {
        "id": "NdWGeV0MIzBw"
      },
      "execution_count": null,
      "outputs": []
    },
    {
      "cell_type": "code",
      "source": [
        "final_cm"
      ],
      "metadata": {
        "colab": {
          "base_uri": "https://localhost:8080/",
          "height": 1000
        },
        "id": "46-MdYPYIzEP",
        "outputId": "db19d190-8d88-411e-dbe1-18a8d5834eb8"
      },
      "execution_count": null,
      "outputs": [
        {
          "output_type": "execute_result",
          "data": {
            "text/plain": [
              "                           Wrightia religiosa  Wrightia  Melaleuca  \\\n",
              "Wrightia religiosa                         30         0          0   \n",
              "Wrightia                                    0        17          0   \n",
              "Melaleuca                                   0         0         19   \n",
              "Prunus salicina                             0         0          0   \n",
              "Spondias mombin L                           0         0          0   \n",
              "Cocos nucifera                              0         0          0   \n",
              "Pterocarpus macrocarpus                     0         0          0   \n",
              "Melia azedarach                             0         0          0   \n",
              "Dalbergia oliveri                           0         1          0   \n",
              "Prunnus                                     0         1          0   \n",
              "Khaya senegalensis                          0         0          0   \n",
              "Acacia                                      0         0          0   \n",
              "Tectona grandis                             0         1          0   \n",
              "Gmelina arborea Roxb                        0         0          0   \n",
              "Annona squamosa                             0         1          0   \n",
              "Cananga odorata                             0         0          0   \n",
              "Artocarpus heterophyllus                    0         0          0   \n",
              "Musa                                        0         0          0   \n",
              "Hopea                                       0         0          0   \n",
              "Eucalyptus                                  0         0          0   \n",
              "Barringtonia acutangula                     0         0          0   \n",
              "Mangifera                                   0         0          0   \n",
              "Ficus racemosa                              0         0          0   \n",
              "Persea                                      0         0          0   \n",
              "Ficus microcarpa                            0         0          0   \n",
              "Artocarpus altilis                          0         0          0   \n",
              "Polyalthia longifolia                       0         0          0   \n",
              "Carica papaya                               0         0          0   \n",
              "Anacardium occidentale                      0         0          0   \n",
              "Psidium guajava                             0         0          0   \n",
              "Citrus aurantiifolia                        0         0          0   \n",
              "Magnolia alba                               0         0          0   \n",
              "Cedrus                                      0         0          0   \n",
              "Adenium species                             0         0          0   \n",
              "Adenanthera microsperma                     0         0          0   \n",
              "Chrysophyllum cainino                       0         0          0   \n",
              "Lagerstroemia speciosa                      0         0          0   \n",
              "Terminalia catappa                          0         0          1   \n",
              "Dipterocarpus alatus                        0         0          0   \n",
              "Khaya senegalensis A.Juss                   0         0          0   \n",
              "Casuarina equisetifolia                     0         0          0   \n",
              "Tamarindus indica                           0         0          0   \n",
              "Citrus grandis                              0         0          0   \n",
              "Erythrina fusca                             0         0          0   \n",
              "Senna siamea                                0         0          0   \n",
              "Delonix regia                               0         1          0   \n",
              "Syzygium nervosum                           0         1          0   \n",
              "Veitchia merrilli                           0         0          0   \n",
              "Nephelium lappaceum                         0         1          0   \n",
              "Hevea brasiliensis                          0         2          0   \n",
              "\n",
              "                           Prunus salicina  Spondias mombin L  Cocos nucifera  \\\n",
              "Wrightia religiosa                       0                  0               0   \n",
              "Wrightia                                 0                  0               0   \n",
              "Melaleuca                                0                  0               0   \n",
              "Prunus salicina                         19                  0               0   \n",
              "Spondias mombin L                        0                 26               0   \n",
              "Cocos nucifera                           0                  0              25   \n",
              "Pterocarpus macrocarpus                  0                  0               0   \n",
              "Melia azedarach                          0                  1               0   \n",
              "Dalbergia oliveri                        1                  0               0   \n",
              "Prunnus                                  0                  0               0   \n",
              "Khaya senegalensis                       0                  0               0   \n",
              "Acacia                                   0                  1               0   \n",
              "Tectona grandis                          0                  1               0   \n",
              "Gmelina arborea Roxb                     0                  0               0   \n",
              "Annona squamosa                          0                  1               0   \n",
              "Cananga odorata                          0                  0               0   \n",
              "Artocarpus heterophyllus                 0                  0               0   \n",
              "Musa                                     0                  0               0   \n",
              "Hopea                                    0                  0               0   \n",
              "Eucalyptus                               0                  0               0   \n",
              "Barringtonia acutangula                  0                  0               0   \n",
              "Mangifera                                0                  0               0   \n",
              "Ficus racemosa                           0                  0               0   \n",
              "Persea                                   0                  0               0   \n",
              "Ficus microcarpa                         0                  0               0   \n",
              "Artocarpus altilis                       0                  0               0   \n",
              "Polyalthia longifolia                    0                  0               0   \n",
              "Carica papaya                            0                  0               0   \n",
              "Anacardium occidentale                   0                  0               0   \n",
              "Psidium guajava                          0                  0               0   \n",
              "Citrus aurantiifolia                     0                  0               0   \n",
              "Magnolia alba                            0                  0               0   \n",
              "Cedrus                                   0                  0               0   \n",
              "Adenium species                          0                  0               0   \n",
              "Adenanthera microsperma                  0                  0               0   \n",
              "Chrysophyllum cainino                    0                  0               0   \n",
              "Lagerstroemia speciosa                   0                  0               0   \n",
              "Terminalia catappa                       0                  0               0   \n",
              "Dipterocarpus alatus                     0                  0               0   \n",
              "Khaya senegalensis A.Juss                0                  0               0   \n",
              "Casuarina equisetifolia                  0                  0               0   \n",
              "Tamarindus indica                        0                  0               0   \n",
              "Citrus grandis                           0                  0               0   \n",
              "Erythrina fusca                          0                  0               0   \n",
              "Senna siamea                             0                  0               0   \n",
              "Delonix regia                            0                  0               0   \n",
              "Syzygium nervosum                        0                  0               0   \n",
              "Veitchia merrilli                        0                  0               0   \n",
              "Nephelium lappaceum                      0                  0               0   \n",
              "Hevea brasiliensis                       0                  0               0   \n",
              "\n",
              "                           Pterocarpus macrocarpus  Melia azedarach  \\\n",
              "Wrightia religiosa                               0                0   \n",
              "Wrightia                                         0                0   \n",
              "Melaleuca                                        0                0   \n",
              "Prunus salicina                                  0                0   \n",
              "Spondias mombin L                                0                0   \n",
              "Cocos nucifera                                   0                0   \n",
              "Pterocarpus macrocarpus                         13                0   \n",
              "Melia azedarach                                  0               16   \n",
              "Dalbergia oliveri                                0                0   \n",
              "Prunnus                                          0                0   \n",
              "Khaya senegalensis                               0                0   \n",
              "Acacia                                           0                0   \n",
              "Tectona grandis                                  0                0   \n",
              "Gmelina arborea Roxb                             0                0   \n",
              "Annona squamosa                                  0                0   \n",
              "Cananga odorata                                  0                0   \n",
              "Artocarpus heterophyllus                         0                0   \n",
              "Musa                                             0                0   \n",
              "Hopea                                            0                0   \n",
              "Eucalyptus                                       0                0   \n",
              "Barringtonia acutangula                          0                0   \n",
              "Mangifera                                        0                0   \n",
              "Ficus racemosa                                   0                0   \n",
              "Persea                                           0                0   \n",
              "Ficus microcarpa                                 0                0   \n",
              "Artocarpus altilis                               0                0   \n",
              "Polyalthia longifolia                            0                0   \n",
              "Carica papaya                                    0                0   \n",
              "Anacardium occidentale                           0                0   \n",
              "Psidium guajava                                  0                0   \n",
              "Citrus aurantiifolia                             0                0   \n",
              "Magnolia alba                                    0                0   \n",
              "Cedrus                                           0                0   \n",
              "Adenium species                                  0                0   \n",
              "Adenanthera microsperma                          0                0   \n",
              "Chrysophyllum cainino                            0                0   \n",
              "Lagerstroemia speciosa                           0                0   \n",
              "Terminalia catappa                               0                0   \n",
              "Dipterocarpus alatus                             0                0   \n",
              "Khaya senegalensis A.Juss                        0                0   \n",
              "Casuarina equisetifolia                          0                0   \n",
              "Tamarindus indica                                1                0   \n",
              "Citrus grandis                                   0                0   \n",
              "Erythrina fusca                                  0                0   \n",
              "Senna siamea                                     0                0   \n",
              "Delonix regia                                    0                0   \n",
              "Syzygium nervosum                                0                0   \n",
              "Veitchia merrilli                                0                0   \n",
              "Nephelium lappaceum                              0                0   \n",
              "Hevea brasiliensis                               0                0   \n",
              "\n",
              "                           Dalbergia oliveri  Prunnus  ...  \\\n",
              "Wrightia religiosa                         0        0  ...   \n",
              "Wrightia                                   0        0  ...   \n",
              "Melaleuca                                  0        0  ...   \n",
              "Prunus salicina                            0        0  ...   \n",
              "Spondias mombin L                          0        0  ...   \n",
              "Cocos nucifera                             0        0  ...   \n",
              "Pterocarpus macrocarpus                    0        0  ...   \n",
              "Melia azedarach                            0        0  ...   \n",
              "Dalbergia oliveri                         17        0  ...   \n",
              "Prunnus                                    0       19  ...   \n",
              "Khaya senegalensis                         0        0  ...   \n",
              "Acacia                                     0        0  ...   \n",
              "Tectona grandis                            0        0  ...   \n",
              "Gmelina arborea Roxb                       0        0  ...   \n",
              "Annona squamosa                            0        0  ...   \n",
              "Cananga odorata                            0        0  ...   \n",
              "Artocarpus heterophyllus                   0        0  ...   \n",
              "Musa                                       0        0  ...   \n",
              "Hopea                                      0        0  ...   \n",
              "Eucalyptus                                 0        0  ...   \n",
              "Barringtonia acutangula                    0        0  ...   \n",
              "Mangifera                                  0        0  ...   \n",
              "Ficus racemosa                             0        0  ...   \n",
              "Persea                                     0        0  ...   \n",
              "Ficus microcarpa                           0        0  ...   \n",
              "Artocarpus altilis                         0        0  ...   \n",
              "Polyalthia longifolia                      0        0  ...   \n",
              "Carica papaya                              0        0  ...   \n",
              "Anacardium occidentale                     0        0  ...   \n",
              "Psidium guajava                            0        0  ...   \n",
              "Citrus aurantiifolia                       0        0  ...   \n",
              "Magnolia alba                              0        0  ...   \n",
              "Cedrus                                     0        0  ...   \n",
              "Adenium species                            0        0  ...   \n",
              "Adenanthera microsperma                    0        0  ...   \n",
              "Chrysophyllum cainino                      0        0  ...   \n",
              "Lagerstroemia speciosa                     0        0  ...   \n",
              "Terminalia catappa                         1        0  ...   \n",
              "Dipterocarpus alatus                       0        0  ...   \n",
              "Khaya senegalensis A.Juss                  0        0  ...   \n",
              "Casuarina equisetifolia                    0        0  ...   \n",
              "Tamarindus indica                          0        0  ...   \n",
              "Citrus grandis                             0        0  ...   \n",
              "Erythrina fusca                            0        0  ...   \n",
              "Senna siamea                               0        0  ...   \n",
              "Delonix regia                              0        0  ...   \n",
              "Syzygium nervosum                          0        0  ...   \n",
              "Veitchia merrilli                          0        0  ...   \n",
              "Nephelium lappaceum                        0        0  ...   \n",
              "Hevea brasiliensis                         0        0  ...   \n",
              "\n",
              "                           Casuarina equisetifolia  Tamarindus indica  \\\n",
              "Wrightia religiosa                               0                  0   \n",
              "Wrightia                                         0                  0   \n",
              "Melaleuca                                        0                  1   \n",
              "Prunus salicina                                  0                  0   \n",
              "Spondias mombin L                                0                  0   \n",
              "Cocos nucifera                                   0                  0   \n",
              "Pterocarpus macrocarpus                          0                  0   \n",
              "Melia azedarach                                  0                  0   \n",
              "Dalbergia oliveri                                0                  0   \n",
              "Prunnus                                          0                  0   \n",
              "Khaya senegalensis                               0                  0   \n",
              "Acacia                                           0                  0   \n",
              "Tectona grandis                                  0                  1   \n",
              "Gmelina arborea Roxb                             0                  0   \n",
              "Annona squamosa                                  0                  0   \n",
              "Cananga odorata                                  0                  0   \n",
              "Artocarpus heterophyllus                         0                  0   \n",
              "Musa                                             0                  0   \n",
              "Hopea                                            0                  0   \n",
              "Eucalyptus                                       0                  0   \n",
              "Barringtonia acutangula                          0                  0   \n",
              "Mangifera                                        0                  0   \n",
              "Ficus racemosa                                   0                  0   \n",
              "Persea                                           0                  0   \n",
              "Ficus microcarpa                                 0                  0   \n",
              "Artocarpus altilis                               0                  0   \n",
              "Polyalthia longifolia                            0                  0   \n",
              "Carica papaya                                    0                  0   \n",
              "Anacardium occidentale                           0                  0   \n",
              "Psidium guajava                                  0                  0   \n",
              "Citrus aurantiifolia                             0                  0   \n",
              "Magnolia alba                                    0                  0   \n",
              "Cedrus                                           0                  0   \n",
              "Adenium species                                  0                  0   \n",
              "Adenanthera microsperma                          0                  0   \n",
              "Chrysophyllum cainino                            0                  0   \n",
              "Lagerstroemia speciosa                           0                  0   \n",
              "Terminalia catappa                               0                  0   \n",
              "Dipterocarpus alatus                             0                  0   \n",
              "Khaya senegalensis A.Juss                        0                  0   \n",
              "Casuarina equisetifolia                         19                  0   \n",
              "Tamarindus indica                                0                 18   \n",
              "Citrus grandis                                   0                  0   \n",
              "Erythrina fusca                                  0                  0   \n",
              "Senna siamea                                     0                  0   \n",
              "Delonix regia                                    0                  0   \n",
              "Syzygium nervosum                                0                  0   \n",
              "Veitchia merrilli                                0                  0   \n",
              "Nephelium lappaceum                              0                  0   \n",
              "Hevea brasiliensis                               0                  0   \n",
              "\n",
              "                           Citrus grandis  Erythrina fusca  Senna siamea  \\\n",
              "Wrightia religiosa                      0                0             0   \n",
              "Wrightia                                0                0             0   \n",
              "Melaleuca                               0                0             1   \n",
              "Prunus salicina                         0                0             0   \n",
              "Spondias mombin L                       0                0             0   \n",
              "Cocos nucifera                          0                0             0   \n",
              "Pterocarpus macrocarpus                 0                0             0   \n",
              "Melia azedarach                         0                0             0   \n",
              "Dalbergia oliveri                       0                0             0   \n",
              "Prunnus                                 0                0             0   \n",
              "Khaya senegalensis                      0                0             0   \n",
              "Acacia                                  0                0             0   \n",
              "Tectona grandis                         0                0             0   \n",
              "Gmelina arborea Roxb                    0                0             0   \n",
              "Annona squamosa                         0                0             0   \n",
              "Cananga odorata                         0                0             0   \n",
              "Artocarpus heterophyllus                0                0             0   \n",
              "Musa                                    0                0             0   \n",
              "Hopea                                   0                4             0   \n",
              "Eucalyptus                              0                0             0   \n",
              "Barringtonia acutangula                 0                0             0   \n",
              "Mangifera                               0                1             0   \n",
              "Ficus racemosa                          1                0             0   \n",
              "Persea                                  0                0             0   \n",
              "Ficus microcarpa                        0                0             0   \n",
              "Artocarpus altilis                      0                0             0   \n",
              "Polyalthia longifolia                   0                0             0   \n",
              "Carica papaya                           0                0             0   \n",
              "Anacardium occidentale                  0                0             0   \n",
              "Psidium guajava                         0                0             0   \n",
              "Citrus aurantiifolia                    0                0             0   \n",
              "Magnolia alba                           0                0             0   \n",
              "Cedrus                                  0                0             0   \n",
              "Adenium species                         0                0             0   \n",
              "Adenanthera microsperma                 0                0             0   \n",
              "Chrysophyllum cainino                   0                0             0   \n",
              "Lagerstroemia speciosa                  0                0             0   \n",
              "Terminalia catappa                      0                0             0   \n",
              "Dipterocarpus alatus                    0                0             0   \n",
              "Khaya senegalensis A.Juss               0                0             0   \n",
              "Casuarina equisetifolia                 0                0             1   \n",
              "Tamarindus indica                       0                0             1   \n",
              "Citrus grandis                         21                0             0   \n",
              "Erythrina fusca                         0               11             0   \n",
              "Senna siamea                            0                0            12   \n",
              "Delonix regia                           1                0             0   \n",
              "Syzygium nervosum                       0                0             0   \n",
              "Veitchia merrilli                       0                0             0   \n",
              "Nephelium lappaceum                     0                0             0   \n",
              "Hevea brasiliensis                      0                0             0   \n",
              "\n",
              "                           Delonix regia  Syzygium nervosum  \\\n",
              "Wrightia religiosa                     0                  0   \n",
              "Wrightia                               0                  0   \n",
              "Melaleuca                              0                  0   \n",
              "Prunus salicina                        0                  0   \n",
              "Spondias mombin L                      0                  0   \n",
              "Cocos nucifera                         0                  0   \n",
              "Pterocarpus macrocarpus                0                  0   \n",
              "Melia azedarach                        0                  0   \n",
              "Dalbergia oliveri                      0                  0   \n",
              "Prunnus                                0                  0   \n",
              "Khaya senegalensis                     0                  0   \n",
              "Acacia                                 0                  0   \n",
              "Tectona grandis                        0                  0   \n",
              "Gmelina arborea Roxb                   0                  0   \n",
              "Annona squamosa                        0                  0   \n",
              "Cananga odorata                        0                  0   \n",
              "Artocarpus heterophyllus               0                  0   \n",
              "Musa                                   0                  0   \n",
              "Hopea                                  0                  0   \n",
              "Eucalyptus                             0                  0   \n",
              "Barringtonia acutangula                0                  0   \n",
              "Mangifera                              0                  0   \n",
              "Ficus racemosa                         0                  0   \n",
              "Persea                                 0                  0   \n",
              "Ficus microcarpa                       1                  0   \n",
              "Artocarpus altilis                     0                  0   \n",
              "Polyalthia longifolia                  0                  0   \n",
              "Carica papaya                          0                  0   \n",
              "Anacardium occidentale                 0                  0   \n",
              "Psidium guajava                        0                  0   \n",
              "Citrus aurantiifolia                   0                  0   \n",
              "Magnolia alba                          0                  0   \n",
              "Cedrus                                 0                  0   \n",
              "Adenium species                        0                  0   \n",
              "Adenanthera microsperma                0                  0   \n",
              "Chrysophyllum cainino                  0                  0   \n",
              "Lagerstroemia speciosa                 0                  0   \n",
              "Terminalia catappa                     1                  0   \n",
              "Dipterocarpus alatus                   0                  0   \n",
              "Khaya senegalensis A.Juss              0                  0   \n",
              "Casuarina equisetifolia                0                  0   \n",
              "Tamarindus indica                      0                  0   \n",
              "Citrus grandis                         0                  0   \n",
              "Erythrina fusca                        0                  0   \n",
              "Senna siamea                           1                  0   \n",
              "Delonix regia                         13                  0   \n",
              "Syzygium nervosum                      0                 25   \n",
              "Veitchia merrilli                      0                  0   \n",
              "Nephelium lappaceum                    0                  0   \n",
              "Hevea brasiliensis                     1                  0   \n",
              "\n",
              "                           Veitchia merrilli  Nephelium lappaceum  \\\n",
              "Wrightia religiosa                         0                    0   \n",
              "Wrightia                                   0                    0   \n",
              "Melaleuca                                  0                    0   \n",
              "Prunus salicina                            0                    0   \n",
              "Spondias mombin L                          0                    0   \n",
              "Cocos nucifera                             0                    0   \n",
              "Pterocarpus macrocarpus                    0                    0   \n",
              "Melia azedarach                            0                    0   \n",
              "Dalbergia oliveri                          0                    0   \n",
              "Prunnus                                    0                    0   \n",
              "Khaya senegalensis                         0                    0   \n",
              "Acacia                                     0                    0   \n",
              "Tectona grandis                            0                    0   \n",
              "Gmelina arborea Roxb                       0                    0   \n",
              "Annona squamosa                            0                    0   \n",
              "Cananga odorata                            0                    0   \n",
              "Artocarpus heterophyllus                   0                    0   \n",
              "Musa                                       0                    0   \n",
              "Hopea                                      0                    0   \n",
              "Eucalyptus                                 0                    0   \n",
              "Barringtonia acutangula                    0                    0   \n",
              "Mangifera                                  0                    0   \n",
              "Ficus racemosa                             0                    0   \n",
              "Persea                                     0                    0   \n",
              "Ficus microcarpa                           0                    0   \n",
              "Artocarpus altilis                         0                    0   \n",
              "Polyalthia longifolia                      0                    0   \n",
              "Carica papaya                              0                    0   \n",
              "Anacardium occidentale                     0                    0   \n",
              "Psidium guajava                            0                    0   \n",
              "Citrus aurantiifolia                       0                    0   \n",
              "Magnolia alba                              0                    0   \n",
              "Cedrus                                     0                    0   \n",
              "Adenium species                            0                    0   \n",
              "Adenanthera microsperma                    0                    0   \n",
              "Chrysophyllum cainino                      0                    0   \n",
              "Lagerstroemia speciosa                     0                    0   \n",
              "Terminalia catappa                         0                    0   \n",
              "Dipterocarpus alatus                       0                    0   \n",
              "Khaya senegalensis A.Juss                  0                    0   \n",
              "Casuarina equisetifolia                    0                    0   \n",
              "Tamarindus indica                          0                    0   \n",
              "Citrus grandis                             0                    0   \n",
              "Erythrina fusca                            0                    0   \n",
              "Senna siamea                               0                    0   \n",
              "Delonix regia                              0                    0   \n",
              "Syzygium nervosum                          0                    0   \n",
              "Veitchia merrilli                         27                    0   \n",
              "Nephelium lappaceum                        0                   15   \n",
              "Hevea brasiliensis                         0                    0   \n",
              "\n",
              "                           Hevea brasiliensis  \n",
              "Wrightia religiosa                          0  \n",
              "Wrightia                                    0  \n",
              "Melaleuca                                   0  \n",
              "Prunus salicina                             0  \n",
              "Spondias mombin L                           0  \n",
              "Cocos nucifera                              0  \n",
              "Pterocarpus macrocarpus                     0  \n",
              "Melia azedarach                             0  \n",
              "Dalbergia oliveri                           0  \n",
              "Prunnus                                     0  \n",
              "Khaya senegalensis                          0  \n",
              "Acacia                                      0  \n",
              "Tectona grandis                             0  \n",
              "Gmelina arborea Roxb                        0  \n",
              "Annona squamosa                             0  \n",
              "Cananga odorata                             0  \n",
              "Artocarpus heterophyllus                    0  \n",
              "Musa                                        0  \n",
              "Hopea                                       0  \n",
              "Eucalyptus                                  0  \n",
              "Barringtonia acutangula                     0  \n",
              "Mangifera                                   0  \n",
              "Ficus racemosa                              0  \n",
              "Persea                                      0  \n",
              "Ficus microcarpa                            0  \n",
              "Artocarpus altilis                          0  \n",
              "Polyalthia longifolia                       0  \n",
              "Carica papaya                               0  \n",
              "Anacardium occidentale                      0  \n",
              "Psidium guajava                             0  \n",
              "Citrus aurantiifolia                        0  \n",
              "Magnolia alba                               0  \n",
              "Cedrus                                      0  \n",
              "Adenium species                             0  \n",
              "Adenanthera microsperma                     0  \n",
              "Chrysophyllum cainino                       0  \n",
              "Lagerstroemia speciosa                      0  \n",
              "Terminalia catappa                          0  \n",
              "Dipterocarpus alatus                        0  \n",
              "Khaya senegalensis A.Juss                   0  \n",
              "Casuarina equisetifolia                     0  \n",
              "Tamarindus indica                           0  \n",
              "Citrus grandis                              0  \n",
              "Erythrina fusca                             0  \n",
              "Senna siamea                                0  \n",
              "Delonix regia                               0  \n",
              "Syzygium nervosum                           0  \n",
              "Veitchia merrilli                           0  \n",
              "Nephelium lappaceum                         0  \n",
              "Hevea brasiliensis                         18  \n",
              "\n",
              "[50 rows x 50 columns]"
            ],
            "text/html": [
              "\n",
              "  <div id=\"df-f0bb168b-8b8e-4bc0-a5b7-af48a19c5189\">\n",
              "    <div class=\"colab-df-container\">\n",
              "      <div>\n",
              "<style scoped>\n",
              "    .dataframe tbody tr th:only-of-type {\n",
              "        vertical-align: middle;\n",
              "    }\n",
              "\n",
              "    .dataframe tbody tr th {\n",
              "        vertical-align: top;\n",
              "    }\n",
              "\n",
              "    .dataframe thead th {\n",
              "        text-align: right;\n",
              "    }\n",
              "</style>\n",
              "<table border=\"1\" class=\"dataframe\">\n",
              "  <thead>\n",
              "    <tr style=\"text-align: right;\">\n",
              "      <th></th>\n",
              "      <th>Wrightia religiosa</th>\n",
              "      <th>Wrightia</th>\n",
              "      <th>Melaleuca</th>\n",
              "      <th>Prunus salicina</th>\n",
              "      <th>Spondias mombin L</th>\n",
              "      <th>Cocos nucifera</th>\n",
              "      <th>Pterocarpus macrocarpus</th>\n",
              "      <th>Melia azedarach</th>\n",
              "      <th>Dalbergia oliveri</th>\n",
              "      <th>Prunnus</th>\n",
              "      <th>...</th>\n",
              "      <th>Casuarina equisetifolia</th>\n",
              "      <th>Tamarindus indica</th>\n",
              "      <th>Citrus grandis</th>\n",
              "      <th>Erythrina fusca</th>\n",
              "      <th>Senna siamea</th>\n",
              "      <th>Delonix regia</th>\n",
              "      <th>Syzygium nervosum</th>\n",
              "      <th>Veitchia merrilli</th>\n",
              "      <th>Nephelium lappaceum</th>\n",
              "      <th>Hevea brasiliensis</th>\n",
              "    </tr>\n",
              "  </thead>\n",
              "  <tbody>\n",
              "    <tr>\n",
              "      <th>Wrightia religiosa</th>\n",
              "      <td>30</td>\n",
              "      <td>0</td>\n",
              "      <td>0</td>\n",
              "      <td>0</td>\n",
              "      <td>0</td>\n",
              "      <td>0</td>\n",
              "      <td>0</td>\n",
              "      <td>0</td>\n",
              "      <td>0</td>\n",
              "      <td>0</td>\n",
              "      <td>...</td>\n",
              "      <td>0</td>\n",
              "      <td>0</td>\n",
              "      <td>0</td>\n",
              "      <td>0</td>\n",
              "      <td>0</td>\n",
              "      <td>0</td>\n",
              "      <td>0</td>\n",
              "      <td>0</td>\n",
              "      <td>0</td>\n",
              "      <td>0</td>\n",
              "    </tr>\n",
              "    <tr>\n",
              "      <th>Wrightia</th>\n",
              "      <td>0</td>\n",
              "      <td>17</td>\n",
              "      <td>0</td>\n",
              "      <td>0</td>\n",
              "      <td>0</td>\n",
              "      <td>0</td>\n",
              "      <td>0</td>\n",
              "      <td>0</td>\n",
              "      <td>0</td>\n",
              "      <td>0</td>\n",
              "      <td>...</td>\n",
              "      <td>0</td>\n",
              "      <td>0</td>\n",
              "      <td>0</td>\n",
              "      <td>0</td>\n",
              "      <td>0</td>\n",
              "      <td>0</td>\n",
              "      <td>0</td>\n",
              "      <td>0</td>\n",
              "      <td>0</td>\n",
              "      <td>0</td>\n",
              "    </tr>\n",
              "    <tr>\n",
              "      <th>Melaleuca</th>\n",
              "      <td>0</td>\n",
              "      <td>0</td>\n",
              "      <td>19</td>\n",
              "      <td>0</td>\n",
              "      <td>0</td>\n",
              "      <td>0</td>\n",
              "      <td>0</td>\n",
              "      <td>0</td>\n",
              "      <td>0</td>\n",
              "      <td>0</td>\n",
              "      <td>...</td>\n",
              "      <td>0</td>\n",
              "      <td>1</td>\n",
              "      <td>0</td>\n",
              "      <td>0</td>\n",
              "      <td>1</td>\n",
              "      <td>0</td>\n",
              "      <td>0</td>\n",
              "      <td>0</td>\n",
              "      <td>0</td>\n",
              "      <td>0</td>\n",
              "    </tr>\n",
              "    <tr>\n",
              "      <th>Prunus salicina</th>\n",
              "      <td>0</td>\n",
              "      <td>0</td>\n",
              "      <td>0</td>\n",
              "      <td>19</td>\n",
              "      <td>0</td>\n",
              "      <td>0</td>\n",
              "      <td>0</td>\n",
              "      <td>0</td>\n",
              "      <td>0</td>\n",
              "      <td>0</td>\n",
              "      <td>...</td>\n",
              "      <td>0</td>\n",
              "      <td>0</td>\n",
              "      <td>0</td>\n",
              "      <td>0</td>\n",
              "      <td>0</td>\n",
              "      <td>0</td>\n",
              "      <td>0</td>\n",
              "      <td>0</td>\n",
              "      <td>0</td>\n",
              "      <td>0</td>\n",
              "    </tr>\n",
              "    <tr>\n",
              "      <th>Spondias mombin L</th>\n",
              "      <td>0</td>\n",
              "      <td>0</td>\n",
              "      <td>0</td>\n",
              "      <td>0</td>\n",
              "      <td>26</td>\n",
              "      <td>0</td>\n",
              "      <td>0</td>\n",
              "      <td>0</td>\n",
              "      <td>0</td>\n",
              "      <td>0</td>\n",
              "      <td>...</td>\n",
              "      <td>0</td>\n",
              "      <td>0</td>\n",
              "      <td>0</td>\n",
              "      <td>0</td>\n",
              "      <td>0</td>\n",
              "      <td>0</td>\n",
              "      <td>0</td>\n",
              "      <td>0</td>\n",
              "      <td>0</td>\n",
              "      <td>0</td>\n",
              "    </tr>\n",
              "    <tr>\n",
              "      <th>Cocos nucifera</th>\n",
              "      <td>0</td>\n",
              "      <td>0</td>\n",
              "      <td>0</td>\n",
              "      <td>0</td>\n",
              "      <td>0</td>\n",
              "      <td>25</td>\n",
              "      <td>0</td>\n",
              "      <td>0</td>\n",
              "      <td>0</td>\n",
              "      <td>0</td>\n",
              "      <td>...</td>\n",
              "      <td>0</td>\n",
              "      <td>0</td>\n",
              "      <td>0</td>\n",
              "      <td>0</td>\n",
              "      <td>0</td>\n",
              "      <td>0</td>\n",
              "      <td>0</td>\n",
              "      <td>0</td>\n",
              "      <td>0</td>\n",
              "      <td>0</td>\n",
              "    </tr>\n",
              "    <tr>\n",
              "      <th>Pterocarpus macrocarpus</th>\n",
              "      <td>0</td>\n",
              "      <td>0</td>\n",
              "      <td>0</td>\n",
              "      <td>0</td>\n",
              "      <td>0</td>\n",
              "      <td>0</td>\n",
              "      <td>13</td>\n",
              "      <td>0</td>\n",
              "      <td>0</td>\n",
              "      <td>0</td>\n",
              "      <td>...</td>\n",
              "      <td>0</td>\n",
              "      <td>0</td>\n",
              "      <td>0</td>\n",
              "      <td>0</td>\n",
              "      <td>0</td>\n",
              "      <td>0</td>\n",
              "      <td>0</td>\n",
              "      <td>0</td>\n",
              "      <td>0</td>\n",
              "      <td>0</td>\n",
              "    </tr>\n",
              "    <tr>\n",
              "      <th>Melia azedarach</th>\n",
              "      <td>0</td>\n",
              "      <td>0</td>\n",
              "      <td>0</td>\n",
              "      <td>0</td>\n",
              "      <td>1</td>\n",
              "      <td>0</td>\n",
              "      <td>0</td>\n",
              "      <td>16</td>\n",
              "      <td>0</td>\n",
              "      <td>0</td>\n",
              "      <td>...</td>\n",
              "      <td>0</td>\n",
              "      <td>0</td>\n",
              "      <td>0</td>\n",
              "      <td>0</td>\n",
              "      <td>0</td>\n",
              "      <td>0</td>\n",
              "      <td>0</td>\n",
              "      <td>0</td>\n",
              "      <td>0</td>\n",
              "      <td>0</td>\n",
              "    </tr>\n",
              "    <tr>\n",
              "      <th>Dalbergia oliveri</th>\n",
              "      <td>0</td>\n",
              "      <td>1</td>\n",
              "      <td>0</td>\n",
              "      <td>1</td>\n",
              "      <td>0</td>\n",
              "      <td>0</td>\n",
              "      <td>0</td>\n",
              "      <td>0</td>\n",
              "      <td>17</td>\n",
              "      <td>0</td>\n",
              "      <td>...</td>\n",
              "      <td>0</td>\n",
              "      <td>0</td>\n",
              "      <td>0</td>\n",
              "      <td>0</td>\n",
              "      <td>0</td>\n",
              "      <td>0</td>\n",
              "      <td>0</td>\n",
              "      <td>0</td>\n",
              "      <td>0</td>\n",
              "      <td>0</td>\n",
              "    </tr>\n",
              "    <tr>\n",
              "      <th>Prunnus</th>\n",
              "      <td>0</td>\n",
              "      <td>1</td>\n",
              "      <td>0</td>\n",
              "      <td>0</td>\n",
              "      <td>0</td>\n",
              "      <td>0</td>\n",
              "      <td>0</td>\n",
              "      <td>0</td>\n",
              "      <td>0</td>\n",
              "      <td>19</td>\n",
              "      <td>...</td>\n",
              "      <td>0</td>\n",
              "      <td>0</td>\n",
              "      <td>0</td>\n",
              "      <td>0</td>\n",
              "      <td>0</td>\n",
              "      <td>0</td>\n",
              "      <td>0</td>\n",
              "      <td>0</td>\n",
              "      <td>0</td>\n",
              "      <td>0</td>\n",
              "    </tr>\n",
              "    <tr>\n",
              "      <th>Khaya senegalensis</th>\n",
              "      <td>0</td>\n",
              "      <td>0</td>\n",
              "      <td>0</td>\n",
              "      <td>0</td>\n",
              "      <td>0</td>\n",
              "      <td>0</td>\n",
              "      <td>0</td>\n",
              "      <td>0</td>\n",
              "      <td>0</td>\n",
              "      <td>0</td>\n",
              "      <td>...</td>\n",
              "      <td>0</td>\n",
              "      <td>0</td>\n",
              "      <td>0</td>\n",
              "      <td>0</td>\n",
              "      <td>0</td>\n",
              "      <td>0</td>\n",
              "      <td>0</td>\n",
              "      <td>0</td>\n",
              "      <td>0</td>\n",
              "      <td>0</td>\n",
              "    </tr>\n",
              "    <tr>\n",
              "      <th>Acacia</th>\n",
              "      <td>0</td>\n",
              "      <td>0</td>\n",
              "      <td>0</td>\n",
              "      <td>0</td>\n",
              "      <td>1</td>\n",
              "      <td>0</td>\n",
              "      <td>0</td>\n",
              "      <td>0</td>\n",
              "      <td>0</td>\n",
              "      <td>0</td>\n",
              "      <td>...</td>\n",
              "      <td>0</td>\n",
              "      <td>0</td>\n",
              "      <td>0</td>\n",
              "      <td>0</td>\n",
              "      <td>0</td>\n",
              "      <td>0</td>\n",
              "      <td>0</td>\n",
              "      <td>0</td>\n",
              "      <td>0</td>\n",
              "      <td>0</td>\n",
              "    </tr>\n",
              "    <tr>\n",
              "      <th>Tectona grandis</th>\n",
              "      <td>0</td>\n",
              "      <td>1</td>\n",
              "      <td>0</td>\n",
              "      <td>0</td>\n",
              "      <td>1</td>\n",
              "      <td>0</td>\n",
              "      <td>0</td>\n",
              "      <td>0</td>\n",
              "      <td>0</td>\n",
              "      <td>0</td>\n",
              "      <td>...</td>\n",
              "      <td>0</td>\n",
              "      <td>1</td>\n",
              "      <td>0</td>\n",
              "      <td>0</td>\n",
              "      <td>0</td>\n",
              "      <td>0</td>\n",
              "      <td>0</td>\n",
              "      <td>0</td>\n",
              "      <td>0</td>\n",
              "      <td>0</td>\n",
              "    </tr>\n",
              "    <tr>\n",
              "      <th>Gmelina arborea Roxb</th>\n",
              "      <td>0</td>\n",
              "      <td>0</td>\n",
              "      <td>0</td>\n",
              "      <td>0</td>\n",
              "      <td>0</td>\n",
              "      <td>0</td>\n",
              "      <td>0</td>\n",
              "      <td>0</td>\n",
              "      <td>0</td>\n",
              "      <td>0</td>\n",
              "      <td>...</td>\n",
              "      <td>0</td>\n",
              "      <td>0</td>\n",
              "      <td>0</td>\n",
              "      <td>0</td>\n",
              "      <td>0</td>\n",
              "      <td>0</td>\n",
              "      <td>0</td>\n",
              "      <td>0</td>\n",
              "      <td>0</td>\n",
              "      <td>0</td>\n",
              "    </tr>\n",
              "    <tr>\n",
              "      <th>Annona squamosa</th>\n",
              "      <td>0</td>\n",
              "      <td>1</td>\n",
              "      <td>0</td>\n",
              "      <td>0</td>\n",
              "      <td>1</td>\n",
              "      <td>0</td>\n",
              "      <td>0</td>\n",
              "      <td>0</td>\n",
              "      <td>0</td>\n",
              "      <td>0</td>\n",
              "      <td>...</td>\n",
              "      <td>0</td>\n",
              "      <td>0</td>\n",
              "      <td>0</td>\n",
              "      <td>0</td>\n",
              "      <td>0</td>\n",
              "      <td>0</td>\n",
              "      <td>0</td>\n",
              "      <td>0</td>\n",
              "      <td>0</td>\n",
              "      <td>0</td>\n",
              "    </tr>\n",
              "    <tr>\n",
              "      <th>Cananga odorata</th>\n",
              "      <td>0</td>\n",
              "      <td>0</td>\n",
              "      <td>0</td>\n",
              "      <td>0</td>\n",
              "      <td>0</td>\n",
              "      <td>0</td>\n",
              "      <td>0</td>\n",
              "      <td>0</td>\n",
              "      <td>0</td>\n",
              "      <td>0</td>\n",
              "      <td>...</td>\n",
              "      <td>0</td>\n",
              "      <td>0</td>\n",
              "      <td>0</td>\n",
              "      <td>0</td>\n",
              "      <td>0</td>\n",
              "      <td>0</td>\n",
              "      <td>0</td>\n",
              "      <td>0</td>\n",
              "      <td>0</td>\n",
              "      <td>0</td>\n",
              "    </tr>\n",
              "    <tr>\n",
              "      <th>Artocarpus heterophyllus</th>\n",
              "      <td>0</td>\n",
              "      <td>0</td>\n",
              "      <td>0</td>\n",
              "      <td>0</td>\n",
              "      <td>0</td>\n",
              "      <td>0</td>\n",
              "      <td>0</td>\n",
              "      <td>0</td>\n",
              "      <td>0</td>\n",
              "      <td>0</td>\n",
              "      <td>...</td>\n",
              "      <td>0</td>\n",
              "      <td>0</td>\n",
              "      <td>0</td>\n",
              "      <td>0</td>\n",
              "      <td>0</td>\n",
              "      <td>0</td>\n",
              "      <td>0</td>\n",
              "      <td>0</td>\n",
              "      <td>0</td>\n",
              "      <td>0</td>\n",
              "    </tr>\n",
              "    <tr>\n",
              "      <th>Musa</th>\n",
              "      <td>0</td>\n",
              "      <td>0</td>\n",
              "      <td>0</td>\n",
              "      <td>0</td>\n",
              "      <td>0</td>\n",
              "      <td>0</td>\n",
              "      <td>0</td>\n",
              "      <td>0</td>\n",
              "      <td>0</td>\n",
              "      <td>0</td>\n",
              "      <td>...</td>\n",
              "      <td>0</td>\n",
              "      <td>0</td>\n",
              "      <td>0</td>\n",
              "      <td>0</td>\n",
              "      <td>0</td>\n",
              "      <td>0</td>\n",
              "      <td>0</td>\n",
              "      <td>0</td>\n",
              "      <td>0</td>\n",
              "      <td>0</td>\n",
              "    </tr>\n",
              "    <tr>\n",
              "      <th>Hopea</th>\n",
              "      <td>0</td>\n",
              "      <td>0</td>\n",
              "      <td>0</td>\n",
              "      <td>0</td>\n",
              "      <td>0</td>\n",
              "      <td>0</td>\n",
              "      <td>0</td>\n",
              "      <td>0</td>\n",
              "      <td>0</td>\n",
              "      <td>0</td>\n",
              "      <td>...</td>\n",
              "      <td>0</td>\n",
              "      <td>0</td>\n",
              "      <td>0</td>\n",
              "      <td>4</td>\n",
              "      <td>0</td>\n",
              "      <td>0</td>\n",
              "      <td>0</td>\n",
              "      <td>0</td>\n",
              "      <td>0</td>\n",
              "      <td>0</td>\n",
              "    </tr>\n",
              "    <tr>\n",
              "      <th>Eucalyptus</th>\n",
              "      <td>0</td>\n",
              "      <td>0</td>\n",
              "      <td>0</td>\n",
              "      <td>0</td>\n",
              "      <td>0</td>\n",
              "      <td>0</td>\n",
              "      <td>0</td>\n",
              "      <td>0</td>\n",
              "      <td>0</td>\n",
              "      <td>0</td>\n",
              "      <td>...</td>\n",
              "      <td>0</td>\n",
              "      <td>0</td>\n",
              "      <td>0</td>\n",
              "      <td>0</td>\n",
              "      <td>0</td>\n",
              "      <td>0</td>\n",
              "      <td>0</td>\n",
              "      <td>0</td>\n",
              "      <td>0</td>\n",
              "      <td>0</td>\n",
              "    </tr>\n",
              "    <tr>\n",
              "      <th>Barringtonia acutangula</th>\n",
              "      <td>0</td>\n",
              "      <td>0</td>\n",
              "      <td>0</td>\n",
              "      <td>0</td>\n",
              "      <td>0</td>\n",
              "      <td>0</td>\n",
              "      <td>0</td>\n",
              "      <td>0</td>\n",
              "      <td>0</td>\n",
              "      <td>0</td>\n",
              "      <td>...</td>\n",
              "      <td>0</td>\n",
              "      <td>0</td>\n",
              "      <td>0</td>\n",
              "      <td>0</td>\n",
              "      <td>0</td>\n",
              "      <td>0</td>\n",
              "      <td>0</td>\n",
              "      <td>0</td>\n",
              "      <td>0</td>\n",
              "      <td>0</td>\n",
              "    </tr>\n",
              "    <tr>\n",
              "      <th>Mangifera</th>\n",
              "      <td>0</td>\n",
              "      <td>0</td>\n",
              "      <td>0</td>\n",
              "      <td>0</td>\n",
              "      <td>0</td>\n",
              "      <td>0</td>\n",
              "      <td>0</td>\n",
              "      <td>0</td>\n",
              "      <td>0</td>\n",
              "      <td>0</td>\n",
              "      <td>...</td>\n",
              "      <td>0</td>\n",
              "      <td>0</td>\n",
              "      <td>0</td>\n",
              "      <td>1</td>\n",
              "      <td>0</td>\n",
              "      <td>0</td>\n",
              "      <td>0</td>\n",
              "      <td>0</td>\n",
              "      <td>0</td>\n",
              "      <td>0</td>\n",
              "    </tr>\n",
              "    <tr>\n",
              "      <th>Ficus racemosa</th>\n",
              "      <td>0</td>\n",
              "      <td>0</td>\n",
              "      <td>0</td>\n",
              "      <td>0</td>\n",
              "      <td>0</td>\n",
              "      <td>0</td>\n",
              "      <td>0</td>\n",
              "      <td>0</td>\n",
              "      <td>0</td>\n",
              "      <td>0</td>\n",
              "      <td>...</td>\n",
              "      <td>0</td>\n",
              "      <td>0</td>\n",
              "      <td>1</td>\n",
              "      <td>0</td>\n",
              "      <td>0</td>\n",
              "      <td>0</td>\n",
              "      <td>0</td>\n",
              "      <td>0</td>\n",
              "      <td>0</td>\n",
              "      <td>0</td>\n",
              "    </tr>\n",
              "    <tr>\n",
              "      <th>Persea</th>\n",
              "      <td>0</td>\n",
              "      <td>0</td>\n",
              "      <td>0</td>\n",
              "      <td>0</td>\n",
              "      <td>0</td>\n",
              "      <td>0</td>\n",
              "      <td>0</td>\n",
              "      <td>0</td>\n",
              "      <td>0</td>\n",
              "      <td>0</td>\n",
              "      <td>...</td>\n",
              "      <td>0</td>\n",
              "      <td>0</td>\n",
              "      <td>0</td>\n",
              "      <td>0</td>\n",
              "      <td>0</td>\n",
              "      <td>0</td>\n",
              "      <td>0</td>\n",
              "      <td>0</td>\n",
              "      <td>0</td>\n",
              "      <td>0</td>\n",
              "    </tr>\n",
              "    <tr>\n",
              "      <th>Ficus microcarpa</th>\n",
              "      <td>0</td>\n",
              "      <td>0</td>\n",
              "      <td>0</td>\n",
              "      <td>0</td>\n",
              "      <td>0</td>\n",
              "      <td>0</td>\n",
              "      <td>0</td>\n",
              "      <td>0</td>\n",
              "      <td>0</td>\n",
              "      <td>0</td>\n",
              "      <td>...</td>\n",
              "      <td>0</td>\n",
              "      <td>0</td>\n",
              "      <td>0</td>\n",
              "      <td>0</td>\n",
              "      <td>0</td>\n",
              "      <td>1</td>\n",
              "      <td>0</td>\n",
              "      <td>0</td>\n",
              "      <td>0</td>\n",
              "      <td>0</td>\n",
              "    </tr>\n",
              "    <tr>\n",
              "      <th>Artocarpus altilis</th>\n",
              "      <td>0</td>\n",
              "      <td>0</td>\n",
              "      <td>0</td>\n",
              "      <td>0</td>\n",
              "      <td>0</td>\n",
              "      <td>0</td>\n",
              "      <td>0</td>\n",
              "      <td>0</td>\n",
              "      <td>0</td>\n",
              "      <td>0</td>\n",
              "      <td>...</td>\n",
              "      <td>0</td>\n",
              "      <td>0</td>\n",
              "      <td>0</td>\n",
              "      <td>0</td>\n",
              "      <td>0</td>\n",
              "      <td>0</td>\n",
              "      <td>0</td>\n",
              "      <td>0</td>\n",
              "      <td>0</td>\n",
              "      <td>0</td>\n",
              "    </tr>\n",
              "    <tr>\n",
              "      <th>Polyalthia longifolia</th>\n",
              "      <td>0</td>\n",
              "      <td>0</td>\n",
              "      <td>0</td>\n",
              "      <td>0</td>\n",
              "      <td>0</td>\n",
              "      <td>0</td>\n",
              "      <td>0</td>\n",
              "      <td>0</td>\n",
              "      <td>0</td>\n",
              "      <td>0</td>\n",
              "      <td>...</td>\n",
              "      <td>0</td>\n",
              "      <td>0</td>\n",
              "      <td>0</td>\n",
              "      <td>0</td>\n",
              "      <td>0</td>\n",
              "      <td>0</td>\n",
              "      <td>0</td>\n",
              "      <td>0</td>\n",
              "      <td>0</td>\n",
              "      <td>0</td>\n",
              "    </tr>\n",
              "    <tr>\n",
              "      <th>Carica papaya</th>\n",
              "      <td>0</td>\n",
              "      <td>0</td>\n",
              "      <td>0</td>\n",
              "      <td>0</td>\n",
              "      <td>0</td>\n",
              "      <td>0</td>\n",
              "      <td>0</td>\n",
              "      <td>0</td>\n",
              "      <td>0</td>\n",
              "      <td>0</td>\n",
              "      <td>...</td>\n",
              "      <td>0</td>\n",
              "      <td>0</td>\n",
              "      <td>0</td>\n",
              "      <td>0</td>\n",
              "      <td>0</td>\n",
              "      <td>0</td>\n",
              "      <td>0</td>\n",
              "      <td>0</td>\n",
              "      <td>0</td>\n",
              "      <td>0</td>\n",
              "    </tr>\n",
              "    <tr>\n",
              "      <th>Anacardium occidentale</th>\n",
              "      <td>0</td>\n",
              "      <td>0</td>\n",
              "      <td>0</td>\n",
              "      <td>0</td>\n",
              "      <td>0</td>\n",
              "      <td>0</td>\n",
              "      <td>0</td>\n",
              "      <td>0</td>\n",
              "      <td>0</td>\n",
              "      <td>0</td>\n",
              "      <td>...</td>\n",
              "      <td>0</td>\n",
              "      <td>0</td>\n",
              "      <td>0</td>\n",
              "      <td>0</td>\n",
              "      <td>0</td>\n",
              "      <td>0</td>\n",
              "      <td>0</td>\n",
              "      <td>0</td>\n",
              "      <td>0</td>\n",
              "      <td>0</td>\n",
              "    </tr>\n",
              "    <tr>\n",
              "      <th>Psidium guajava</th>\n",
              "      <td>0</td>\n",
              "      <td>0</td>\n",
              "      <td>0</td>\n",
              "      <td>0</td>\n",
              "      <td>0</td>\n",
              "      <td>0</td>\n",
              "      <td>0</td>\n",
              "      <td>0</td>\n",
              "      <td>0</td>\n",
              "      <td>0</td>\n",
              "      <td>...</td>\n",
              "      <td>0</td>\n",
              "      <td>0</td>\n",
              "      <td>0</td>\n",
              "      <td>0</td>\n",
              "      <td>0</td>\n",
              "      <td>0</td>\n",
              "      <td>0</td>\n",
              "      <td>0</td>\n",
              "      <td>0</td>\n",
              "      <td>0</td>\n",
              "    </tr>\n",
              "    <tr>\n",
              "      <th>Citrus aurantiifolia</th>\n",
              "      <td>0</td>\n",
              "      <td>0</td>\n",
              "      <td>0</td>\n",
              "      <td>0</td>\n",
              "      <td>0</td>\n",
              "      <td>0</td>\n",
              "      <td>0</td>\n",
              "      <td>0</td>\n",
              "      <td>0</td>\n",
              "      <td>0</td>\n",
              "      <td>...</td>\n",
              "      <td>0</td>\n",
              "      <td>0</td>\n",
              "      <td>0</td>\n",
              "      <td>0</td>\n",
              "      <td>0</td>\n",
              "      <td>0</td>\n",
              "      <td>0</td>\n",
              "      <td>0</td>\n",
              "      <td>0</td>\n",
              "      <td>0</td>\n",
              "    </tr>\n",
              "    <tr>\n",
              "      <th>Magnolia alba</th>\n",
              "      <td>0</td>\n",
              "      <td>0</td>\n",
              "      <td>0</td>\n",
              "      <td>0</td>\n",
              "      <td>0</td>\n",
              "      <td>0</td>\n",
              "      <td>0</td>\n",
              "      <td>0</td>\n",
              "      <td>0</td>\n",
              "      <td>0</td>\n",
              "      <td>...</td>\n",
              "      <td>0</td>\n",
              "      <td>0</td>\n",
              "      <td>0</td>\n",
              "      <td>0</td>\n",
              "      <td>0</td>\n",
              "      <td>0</td>\n",
              "      <td>0</td>\n",
              "      <td>0</td>\n",
              "      <td>0</td>\n",
              "      <td>0</td>\n",
              "    </tr>\n",
              "    <tr>\n",
              "      <th>Cedrus</th>\n",
              "      <td>0</td>\n",
              "      <td>0</td>\n",
              "      <td>0</td>\n",
              "      <td>0</td>\n",
              "      <td>0</td>\n",
              "      <td>0</td>\n",
              "      <td>0</td>\n",
              "      <td>0</td>\n",
              "      <td>0</td>\n",
              "      <td>0</td>\n",
              "      <td>...</td>\n",
              "      <td>0</td>\n",
              "      <td>0</td>\n",
              "      <td>0</td>\n",
              "      <td>0</td>\n",
              "      <td>0</td>\n",
              "      <td>0</td>\n",
              "      <td>0</td>\n",
              "      <td>0</td>\n",
              "      <td>0</td>\n",
              "      <td>0</td>\n",
              "    </tr>\n",
              "    <tr>\n",
              "      <th>Adenium species</th>\n",
              "      <td>0</td>\n",
              "      <td>0</td>\n",
              "      <td>0</td>\n",
              "      <td>0</td>\n",
              "      <td>0</td>\n",
              "      <td>0</td>\n",
              "      <td>0</td>\n",
              "      <td>0</td>\n",
              "      <td>0</td>\n",
              "      <td>0</td>\n",
              "      <td>...</td>\n",
              "      <td>0</td>\n",
              "      <td>0</td>\n",
              "      <td>0</td>\n",
              "      <td>0</td>\n",
              "      <td>0</td>\n",
              "      <td>0</td>\n",
              "      <td>0</td>\n",
              "      <td>0</td>\n",
              "      <td>0</td>\n",
              "      <td>0</td>\n",
              "    </tr>\n",
              "    <tr>\n",
              "      <th>Adenanthera microsperma</th>\n",
              "      <td>0</td>\n",
              "      <td>0</td>\n",
              "      <td>0</td>\n",
              "      <td>0</td>\n",
              "      <td>0</td>\n",
              "      <td>0</td>\n",
              "      <td>0</td>\n",
              "      <td>0</td>\n",
              "      <td>0</td>\n",
              "      <td>0</td>\n",
              "      <td>...</td>\n",
              "      <td>0</td>\n",
              "      <td>0</td>\n",
              "      <td>0</td>\n",
              "      <td>0</td>\n",
              "      <td>0</td>\n",
              "      <td>0</td>\n",
              "      <td>0</td>\n",
              "      <td>0</td>\n",
              "      <td>0</td>\n",
              "      <td>0</td>\n",
              "    </tr>\n",
              "    <tr>\n",
              "      <th>Chrysophyllum cainino</th>\n",
              "      <td>0</td>\n",
              "      <td>0</td>\n",
              "      <td>0</td>\n",
              "      <td>0</td>\n",
              "      <td>0</td>\n",
              "      <td>0</td>\n",
              "      <td>0</td>\n",
              "      <td>0</td>\n",
              "      <td>0</td>\n",
              "      <td>0</td>\n",
              "      <td>...</td>\n",
              "      <td>0</td>\n",
              "      <td>0</td>\n",
              "      <td>0</td>\n",
              "      <td>0</td>\n",
              "      <td>0</td>\n",
              "      <td>0</td>\n",
              "      <td>0</td>\n",
              "      <td>0</td>\n",
              "      <td>0</td>\n",
              "      <td>0</td>\n",
              "    </tr>\n",
              "    <tr>\n",
              "      <th>Lagerstroemia speciosa</th>\n",
              "      <td>0</td>\n",
              "      <td>0</td>\n",
              "      <td>0</td>\n",
              "      <td>0</td>\n",
              "      <td>0</td>\n",
              "      <td>0</td>\n",
              "      <td>0</td>\n",
              "      <td>0</td>\n",
              "      <td>0</td>\n",
              "      <td>0</td>\n",
              "      <td>...</td>\n",
              "      <td>0</td>\n",
              "      <td>0</td>\n",
              "      <td>0</td>\n",
              "      <td>0</td>\n",
              "      <td>0</td>\n",
              "      <td>0</td>\n",
              "      <td>0</td>\n",
              "      <td>0</td>\n",
              "      <td>0</td>\n",
              "      <td>0</td>\n",
              "    </tr>\n",
              "    <tr>\n",
              "      <th>Terminalia catappa</th>\n",
              "      <td>0</td>\n",
              "      <td>0</td>\n",
              "      <td>1</td>\n",
              "      <td>0</td>\n",
              "      <td>0</td>\n",
              "      <td>0</td>\n",
              "      <td>0</td>\n",
              "      <td>0</td>\n",
              "      <td>1</td>\n",
              "      <td>0</td>\n",
              "      <td>...</td>\n",
              "      <td>0</td>\n",
              "      <td>0</td>\n",
              "      <td>0</td>\n",
              "      <td>0</td>\n",
              "      <td>0</td>\n",
              "      <td>1</td>\n",
              "      <td>0</td>\n",
              "      <td>0</td>\n",
              "      <td>0</td>\n",
              "      <td>0</td>\n",
              "    </tr>\n",
              "    <tr>\n",
              "      <th>Dipterocarpus alatus</th>\n",
              "      <td>0</td>\n",
              "      <td>0</td>\n",
              "      <td>0</td>\n",
              "      <td>0</td>\n",
              "      <td>0</td>\n",
              "      <td>0</td>\n",
              "      <td>0</td>\n",
              "      <td>0</td>\n",
              "      <td>0</td>\n",
              "      <td>0</td>\n",
              "      <td>...</td>\n",
              "      <td>0</td>\n",
              "      <td>0</td>\n",
              "      <td>0</td>\n",
              "      <td>0</td>\n",
              "      <td>0</td>\n",
              "      <td>0</td>\n",
              "      <td>0</td>\n",
              "      <td>0</td>\n",
              "      <td>0</td>\n",
              "      <td>0</td>\n",
              "    </tr>\n",
              "    <tr>\n",
              "      <th>Khaya senegalensis A.Juss</th>\n",
              "      <td>0</td>\n",
              "      <td>0</td>\n",
              "      <td>0</td>\n",
              "      <td>0</td>\n",
              "      <td>0</td>\n",
              "      <td>0</td>\n",
              "      <td>0</td>\n",
              "      <td>0</td>\n",
              "      <td>0</td>\n",
              "      <td>0</td>\n",
              "      <td>...</td>\n",
              "      <td>0</td>\n",
              "      <td>0</td>\n",
              "      <td>0</td>\n",
              "      <td>0</td>\n",
              "      <td>0</td>\n",
              "      <td>0</td>\n",
              "      <td>0</td>\n",
              "      <td>0</td>\n",
              "      <td>0</td>\n",
              "      <td>0</td>\n",
              "    </tr>\n",
              "    <tr>\n",
              "      <th>Casuarina equisetifolia</th>\n",
              "      <td>0</td>\n",
              "      <td>0</td>\n",
              "      <td>0</td>\n",
              "      <td>0</td>\n",
              "      <td>0</td>\n",
              "      <td>0</td>\n",
              "      <td>0</td>\n",
              "      <td>0</td>\n",
              "      <td>0</td>\n",
              "      <td>0</td>\n",
              "      <td>...</td>\n",
              "      <td>19</td>\n",
              "      <td>0</td>\n",
              "      <td>0</td>\n",
              "      <td>0</td>\n",
              "      <td>1</td>\n",
              "      <td>0</td>\n",
              "      <td>0</td>\n",
              "      <td>0</td>\n",
              "      <td>0</td>\n",
              "      <td>0</td>\n",
              "    </tr>\n",
              "    <tr>\n",
              "      <th>Tamarindus indica</th>\n",
              "      <td>0</td>\n",
              "      <td>0</td>\n",
              "      <td>0</td>\n",
              "      <td>0</td>\n",
              "      <td>0</td>\n",
              "      <td>0</td>\n",
              "      <td>1</td>\n",
              "      <td>0</td>\n",
              "      <td>0</td>\n",
              "      <td>0</td>\n",
              "      <td>...</td>\n",
              "      <td>0</td>\n",
              "      <td>18</td>\n",
              "      <td>0</td>\n",
              "      <td>0</td>\n",
              "      <td>1</td>\n",
              "      <td>0</td>\n",
              "      <td>0</td>\n",
              "      <td>0</td>\n",
              "      <td>0</td>\n",
              "      <td>0</td>\n",
              "    </tr>\n",
              "    <tr>\n",
              "      <th>Citrus grandis</th>\n",
              "      <td>0</td>\n",
              "      <td>0</td>\n",
              "      <td>0</td>\n",
              "      <td>0</td>\n",
              "      <td>0</td>\n",
              "      <td>0</td>\n",
              "      <td>0</td>\n",
              "      <td>0</td>\n",
              "      <td>0</td>\n",
              "      <td>0</td>\n",
              "      <td>...</td>\n",
              "      <td>0</td>\n",
              "      <td>0</td>\n",
              "      <td>21</td>\n",
              "      <td>0</td>\n",
              "      <td>0</td>\n",
              "      <td>0</td>\n",
              "      <td>0</td>\n",
              "      <td>0</td>\n",
              "      <td>0</td>\n",
              "      <td>0</td>\n",
              "    </tr>\n",
              "    <tr>\n",
              "      <th>Erythrina fusca</th>\n",
              "      <td>0</td>\n",
              "      <td>0</td>\n",
              "      <td>0</td>\n",
              "      <td>0</td>\n",
              "      <td>0</td>\n",
              "      <td>0</td>\n",
              "      <td>0</td>\n",
              "      <td>0</td>\n",
              "      <td>0</td>\n",
              "      <td>0</td>\n",
              "      <td>...</td>\n",
              "      <td>0</td>\n",
              "      <td>0</td>\n",
              "      <td>0</td>\n",
              "      <td>11</td>\n",
              "      <td>0</td>\n",
              "      <td>0</td>\n",
              "      <td>0</td>\n",
              "      <td>0</td>\n",
              "      <td>0</td>\n",
              "      <td>0</td>\n",
              "    </tr>\n",
              "    <tr>\n",
              "      <th>Senna siamea</th>\n",
              "      <td>0</td>\n",
              "      <td>0</td>\n",
              "      <td>0</td>\n",
              "      <td>0</td>\n",
              "      <td>0</td>\n",
              "      <td>0</td>\n",
              "      <td>0</td>\n",
              "      <td>0</td>\n",
              "      <td>0</td>\n",
              "      <td>0</td>\n",
              "      <td>...</td>\n",
              "      <td>0</td>\n",
              "      <td>0</td>\n",
              "      <td>0</td>\n",
              "      <td>0</td>\n",
              "      <td>12</td>\n",
              "      <td>1</td>\n",
              "      <td>0</td>\n",
              "      <td>0</td>\n",
              "      <td>0</td>\n",
              "      <td>0</td>\n",
              "    </tr>\n",
              "    <tr>\n",
              "      <th>Delonix regia</th>\n",
              "      <td>0</td>\n",
              "      <td>1</td>\n",
              "      <td>0</td>\n",
              "      <td>0</td>\n",
              "      <td>0</td>\n",
              "      <td>0</td>\n",
              "      <td>0</td>\n",
              "      <td>0</td>\n",
              "      <td>0</td>\n",
              "      <td>0</td>\n",
              "      <td>...</td>\n",
              "      <td>0</td>\n",
              "      <td>0</td>\n",
              "      <td>1</td>\n",
              "      <td>0</td>\n",
              "      <td>0</td>\n",
              "      <td>13</td>\n",
              "      <td>0</td>\n",
              "      <td>0</td>\n",
              "      <td>0</td>\n",
              "      <td>0</td>\n",
              "    </tr>\n",
              "    <tr>\n",
              "      <th>Syzygium nervosum</th>\n",
              "      <td>0</td>\n",
              "      <td>1</td>\n",
              "      <td>0</td>\n",
              "      <td>0</td>\n",
              "      <td>0</td>\n",
              "      <td>0</td>\n",
              "      <td>0</td>\n",
              "      <td>0</td>\n",
              "      <td>0</td>\n",
              "      <td>0</td>\n",
              "      <td>...</td>\n",
              "      <td>0</td>\n",
              "      <td>0</td>\n",
              "      <td>0</td>\n",
              "      <td>0</td>\n",
              "      <td>0</td>\n",
              "      <td>0</td>\n",
              "      <td>25</td>\n",
              "      <td>0</td>\n",
              "      <td>0</td>\n",
              "      <td>0</td>\n",
              "    </tr>\n",
              "    <tr>\n",
              "      <th>Veitchia merrilli</th>\n",
              "      <td>0</td>\n",
              "      <td>0</td>\n",
              "      <td>0</td>\n",
              "      <td>0</td>\n",
              "      <td>0</td>\n",
              "      <td>0</td>\n",
              "      <td>0</td>\n",
              "      <td>0</td>\n",
              "      <td>0</td>\n",
              "      <td>0</td>\n",
              "      <td>...</td>\n",
              "      <td>0</td>\n",
              "      <td>0</td>\n",
              "      <td>0</td>\n",
              "      <td>0</td>\n",
              "      <td>0</td>\n",
              "      <td>0</td>\n",
              "      <td>0</td>\n",
              "      <td>27</td>\n",
              "      <td>0</td>\n",
              "      <td>0</td>\n",
              "    </tr>\n",
              "    <tr>\n",
              "      <th>Nephelium lappaceum</th>\n",
              "      <td>0</td>\n",
              "      <td>1</td>\n",
              "      <td>0</td>\n",
              "      <td>0</td>\n",
              "      <td>0</td>\n",
              "      <td>0</td>\n",
              "      <td>0</td>\n",
              "      <td>0</td>\n",
              "      <td>0</td>\n",
              "      <td>0</td>\n",
              "      <td>...</td>\n",
              "      <td>0</td>\n",
              "      <td>0</td>\n",
              "      <td>0</td>\n",
              "      <td>0</td>\n",
              "      <td>0</td>\n",
              "      <td>0</td>\n",
              "      <td>0</td>\n",
              "      <td>0</td>\n",
              "      <td>15</td>\n",
              "      <td>0</td>\n",
              "    </tr>\n",
              "    <tr>\n",
              "      <th>Hevea brasiliensis</th>\n",
              "      <td>0</td>\n",
              "      <td>2</td>\n",
              "      <td>0</td>\n",
              "      <td>0</td>\n",
              "      <td>0</td>\n",
              "      <td>0</td>\n",
              "      <td>0</td>\n",
              "      <td>0</td>\n",
              "      <td>0</td>\n",
              "      <td>0</td>\n",
              "      <td>...</td>\n",
              "      <td>0</td>\n",
              "      <td>0</td>\n",
              "      <td>0</td>\n",
              "      <td>0</td>\n",
              "      <td>0</td>\n",
              "      <td>1</td>\n",
              "      <td>0</td>\n",
              "      <td>0</td>\n",
              "      <td>0</td>\n",
              "      <td>18</td>\n",
              "    </tr>\n",
              "  </tbody>\n",
              "</table>\n",
              "<p>50 rows × 50 columns</p>\n",
              "</div>\n",
              "      <button class=\"colab-df-convert\" onclick=\"convertToInteractive('df-f0bb168b-8b8e-4bc0-a5b7-af48a19c5189')\"\n",
              "              title=\"Convert this dataframe to an interactive table.\"\n",
              "              style=\"display:none;\">\n",
              "        \n",
              "  <svg xmlns=\"http://www.w3.org/2000/svg\" height=\"24px\"viewBox=\"0 0 24 24\"\n",
              "       width=\"24px\">\n",
              "    <path d=\"M0 0h24v24H0V0z\" fill=\"none\"/>\n",
              "    <path d=\"M18.56 5.44l.94 2.06.94-2.06 2.06-.94-2.06-.94-.94-2.06-.94 2.06-2.06.94zm-11 1L8.5 8.5l.94-2.06 2.06-.94-2.06-.94L8.5 2.5l-.94 2.06-2.06.94zm10 10l.94 2.06.94-2.06 2.06-.94-2.06-.94-.94-2.06-.94 2.06-2.06.94z\"/><path d=\"M17.41 7.96l-1.37-1.37c-.4-.4-.92-.59-1.43-.59-.52 0-1.04.2-1.43.59L10.3 9.45l-7.72 7.72c-.78.78-.78 2.05 0 2.83L4 21.41c.39.39.9.59 1.41.59.51 0 1.02-.2 1.41-.59l7.78-7.78 2.81-2.81c.8-.78.8-2.07 0-2.86zM5.41 20L4 18.59l7.72-7.72 1.47 1.35L5.41 20z\"/>\n",
              "  </svg>\n",
              "      </button>\n",
              "      \n",
              "  <style>\n",
              "    .colab-df-container {\n",
              "      display:flex;\n",
              "      flex-wrap:wrap;\n",
              "      gap: 12px;\n",
              "    }\n",
              "\n",
              "    .colab-df-convert {\n",
              "      background-color: #E8F0FE;\n",
              "      border: none;\n",
              "      border-radius: 50%;\n",
              "      cursor: pointer;\n",
              "      display: none;\n",
              "      fill: #1967D2;\n",
              "      height: 32px;\n",
              "      padding: 0 0 0 0;\n",
              "      width: 32px;\n",
              "    }\n",
              "\n",
              "    .colab-df-convert:hover {\n",
              "      background-color: #E2EBFA;\n",
              "      box-shadow: 0px 1px 2px rgba(60, 64, 67, 0.3), 0px 1px 3px 1px rgba(60, 64, 67, 0.15);\n",
              "      fill: #174EA6;\n",
              "    }\n",
              "\n",
              "    [theme=dark] .colab-df-convert {\n",
              "      background-color: #3B4455;\n",
              "      fill: #D2E3FC;\n",
              "    }\n",
              "\n",
              "    [theme=dark] .colab-df-convert:hover {\n",
              "      background-color: #434B5C;\n",
              "      box-shadow: 0px 1px 3px 1px rgba(0, 0, 0, 0.15);\n",
              "      filter: drop-shadow(0px 1px 2px rgba(0, 0, 0, 0.3));\n",
              "      fill: #FFFFFF;\n",
              "    }\n",
              "  </style>\n",
              "\n",
              "      <script>\n",
              "        const buttonEl =\n",
              "          document.querySelector('#df-f0bb168b-8b8e-4bc0-a5b7-af48a19c5189 button.colab-df-convert');\n",
              "        buttonEl.style.display =\n",
              "          google.colab.kernel.accessAllowed ? 'block' : 'none';\n",
              "\n",
              "        async function convertToInteractive(key) {\n",
              "          const element = document.querySelector('#df-f0bb168b-8b8e-4bc0-a5b7-af48a19c5189');\n",
              "          const dataTable =\n",
              "            await google.colab.kernel.invokeFunction('convertToInteractive',\n",
              "                                                     [key], {});\n",
              "          if (!dataTable) return;\n",
              "\n",
              "          const docLinkHtml = 'Like what you see? Visit the ' +\n",
              "            '<a target=\"_blank\" href=https://colab.research.google.com/notebooks/data_table.ipynb>data table notebook</a>'\n",
              "            + ' to learn more about interactive tables.';\n",
              "          element.innerHTML = '';\n",
              "          dataTable['output_type'] = 'display_data';\n",
              "          await google.colab.output.renderOutput(dataTable, element);\n",
              "          const docLink = document.createElement('div');\n",
              "          docLink.innerHTML = docLinkHtml;\n",
              "          element.appendChild(docLink);\n",
              "        }\n",
              "      </script>\n",
              "    </div>\n",
              "  </div>\n",
              "  "
            ]
          },
          "metadata": {},
          "execution_count": 47
        }
      ]
    },
    {
      "cell_type": "code",
      "source": [
        "plt.figure(figsize = (50,50))\n",
        "sns.heatmap(final_cm, annot = True,cmap='Reds',cbar=False,linewidth=2,fmt='d')\n",
        "plt.title('Confusion Matrix')\n",
        "plt.ylabel('Original Values')\n",
        "plt.xlabel('Predicted Values')\n",
        "plt.savefig('Cm.png')\n",
        "plt.show()"
      ],
      "metadata": {
        "colab": {
          "base_uri": "https://localhost:8080/",
          "height": 1000
        },
        "id": "M3jHCJpPIzGN",
        "outputId": "cebb4a56-2ef5-477c-b33a-b2b55f31e75c"
      },
      "execution_count": null,
      "outputs": [
        {
          "output_type": "display_data",
          "data": {
            "text/plain": [
              "<Figure size 3600x3600 with 1 Axes>"
            ],
            "image/png": "[encoded data removed]"
          },
          "metadata": {
            "needs_background": "light"
          }
        }
      ]
    },
    {
      "cell_type": "markdown",
      "source": [
        "# **Classification Report**"
      ],
      "metadata": {
        "id": "2kK_f8Eredae"
      }
    },
    {
      "cell_type": "code",
      "source": [
        "from sklearn.metrics import classification_report\n",
        "print(classification_report(np.where(y_test == 1)[1], results, target_names=classes))"
      ],
      "metadata": {
        "colab": {
          "base_uri": "https://localhost:8080/"
        },
        "id": "Y192P59Ek0J5",
        "outputId": "1c6d6957-e4ed-49a5-d61b-caeab78d4032"
      },
      "execution_count": null,
      "outputs": [
        {
          "output_type": "stream",
          "name": "stdout",
          "text": [
            "                           precision    recall  f1-score   support\n",
            "\n",
            "       Wrightia religiosa       0.95      1.00      0.97        18\n",
            "                 Wrightia       1.00      0.96      0.98        24\n",
            "                Melaleuca       1.00      0.80      0.89        15\n",
            "          Prunus salicina       1.00      0.95      0.98        22\n",
            "        Spondias mombin L       0.90      1.00      0.95        19\n",
            "           Cocos nucifera       0.96      1.00      0.98        26\n",
            "  Pterocarpus macrocarpus       0.95      0.90      0.93        21\n",
            "          Melia azedarach       1.00      1.00      1.00        19\n",
            "        Dalbergia oliveri       0.85      1.00      0.92        23\n",
            "                  Prunnus       1.00      0.94      0.97        18\n",
            "       Khaya senegalensis       0.95      1.00      0.98        21\n",
            "                   Acacia       0.94      0.94      0.94        18\n",
            "          Tectona grandis       0.91      0.78      0.84        27\n",
            "     Gmelina arborea Roxb       1.00      0.94      0.97        17\n",
            "          Annona squamosa       1.00      0.96      0.98        23\n",
            "          Cananga odorata       0.95      1.00      0.98        20\n",
            " Artocarpus heterophyllus       0.94      0.94      0.94        18\n",
            "                     Musa       1.00      1.00      1.00        17\n",
            "                    Hopea       0.89      0.85      0.87        20\n",
            "               Eucalyptus       0.96      0.92      0.94        25\n",
            "  Barringtonia acutangula       0.95      1.00      0.98        20\n",
            "                Mangifera       0.88      1.00      0.93        21\n",
            "           Ficus racemosa       0.91      0.91      0.91        23\n",
            "                   Persea       1.00      1.00      1.00        28\n",
            "         Ficus microcarpa       0.96      1.00      0.98        24\n",
            "       Artocarpus altilis       1.00      1.00      1.00        23\n",
            "    Polyalthia longifolia       1.00      0.91      0.95        23\n",
            "            Carica papaya       0.86      0.95      0.90        19\n",
            "   Anacardium occidentale       0.95      1.00      0.97        19\n",
            "          Psidium guajava       0.96      1.00      0.98        22\n",
            "     Citrus aurantiifolia       1.00      1.00      1.00        24\n",
            "            Magnolia alba       0.79      0.96      0.87        24\n",
            "                   Cedrus       0.95      1.00      0.98        21\n",
            "          Adenium species       1.00      1.00      1.00        21\n",
            "  Adenanthera microsperma       1.00      0.76      0.86        21\n",
            "    Chrysophyllum cainino       1.00      0.95      0.98        22\n",
            "   Lagerstroemia speciosa       0.86      0.89      0.87        27\n",
            "       Terminalia catappa       0.78      0.82      0.80        22\n",
            "     Dipterocarpus alatus       0.96      0.96      0.96        25\n",
            "Khaya senegalensis A.Juss       1.00      1.00      1.00        25\n",
            "  Casuarina equisetifolia       0.96      0.96      0.96        23\n",
            "        Tamarindus indica       0.83      1.00      0.91        15\n",
            "           Citrus grandis       1.00      0.84      0.91        31\n",
            "          Erythrina fusca       0.92      0.96      0.94        24\n",
            "             Senna siamea       0.81      0.72      0.76        18\n",
            "            Delonix regia       0.82      0.88      0.85        26\n",
            "        Syzygium nervosum       1.00      1.00      1.00        24\n",
            "        Veitchia merrilli       0.95      1.00      0.98        21\n",
            "      Nephelium lappaceum       1.00      0.88      0.93        32\n",
            "       Hevea brasiliensis       1.00      1.00      1.00        21\n",
            "\n",
            "                 accuracy                           0.94      1100\n",
            "                macro avg       0.95      0.94      0.94      1100\n",
            "             weighted avg       0.95      0.94      0.94      1100\n",
            "\n"
          ]
        }
      ]
    },
    {
      "cell_type": "markdown",
      "source": [
        "# **Model Evaluation - Precision, Recall and F1-Score**"
      ],
      "metadata": {
        "id": "nV3mbZEDej67"
      }
    },
    {
      "cell_type": "code",
      "source": [
        "from sklearn.metrics import precision_score, recall_score,f1_score\n",
        "precision = precision_score(np.where(y_test == 1)[1], results, average='weighted')\n",
        "print('Precision: ',precision*100)"
      ],
      "metadata": {
        "colab": {
          "base_uri": "https://localhost:8080/"
        },
        "id": "W8JKdQ_SlO7m",
        "outputId": "506bcbe6-6e6b-4ab2-9237-547641f142dd"
      },
      "execution_count": null,
      "outputs": [
        {
          "output_type": "stream",
          "name": "stdout",
          "text": [
            "Precision:  94.66460452988085\n"
          ]
        }
      ]
    },
    {
      "cell_type": "code",
      "source": [
        "recall = recall_score(np.where(y_test == 1)[1], results,average='weighted')\n",
        "print('Recall: ',recall*100)"
      ],
      "metadata": {
        "colab": {
          "base_uri": "https://localhost:8080/"
        },
        "id": "hNnMtnWllaur",
        "outputId": "63564331-e50f-4f34-8dec-3b00beba52a1"
      },
      "execution_count": null,
      "outputs": [
        {
          "output_type": "stream",
          "name": "stdout",
          "text": [
            "Recall:  94.36363636363636\n"
          ]
        }
      ]
    },
    {
      "cell_type": "code",
      "source": [
        "score = f1_score(np.where(y_test == 1)[1], results,average='weighted')\n",
        "print('F-Measure: ',score*100)"
      ],
      "metadata": {
        "colab": {
          "base_uri": "https://localhost:8080/"
        },
        "id": "gop3hJJilfBo",
        "outputId": "58d2914b-728b-4734-b39d-27475b5691ec"
      },
      "execution_count": null,
      "outputs": [
        {
          "output_type": "stream",
          "name": "stdout",
          "text": [
            "F-Measure:  94.33378898588039\n"
          ]
        }
      ]
    },
    {
      "cell_type": "code",
      "source": [],
      "metadata": {
        "id": "rVb1c2I9vx89"
      },
      "execution_count": null,
      "outputs": []
    },
    {
      "cell_type": "code",
      "source": [],
      "metadata": {
        "id": "nl-5uteLvKjk"
      },
      "execution_count": null,
      "outputs": []
    },
    {
      "cell_type": "code",
      "source": [],
      "metadata": {
        "id": "rgcF2QEVvKt1"
      },
      "execution_count": null,
      "outputs": []
    }
  ]
}